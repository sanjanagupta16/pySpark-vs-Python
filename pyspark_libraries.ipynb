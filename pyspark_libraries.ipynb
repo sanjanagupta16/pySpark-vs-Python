{
 "cells": [
  {
   "cell_type": "markdown",
   "metadata": {
    "application/vnd.databricks.v1+cell": {
     "inputWidgets": {},
     "nuid": "4e23ef85-ee40-4204-9a56-bf632340b0e4",
     "showTitle": false,
     "title": ""
    }
   },
   "source": [
    "### Importing Libraries"
   ]
  },
  {
   "cell_type": "code",
   "execution_count": 1,
   "metadata": {
    "application/vnd.databricks.v1+cell": {
     "inputWidgets": {},
     "nuid": "59dcf39d-bac3-4622-beba-b12f3aa7acd4",
     "showTitle": false,
     "title": ""
    }
   },
   "outputs": [],
   "source": [
    "# If you are running Databricks Runtime version 7.1 or above, uncomment this line and run this cell:\n",
    "#%pip install mlflow"
   ]
  },
  {
   "cell_type": "code",
   "execution_count": 2,
   "metadata": {
    "application/vnd.databricks.v1+cell": {
     "inputWidgets": {},
     "nuid": "ba6c32f4-72e8-429d-a977-f19f1477d112",
     "showTitle": false,
     "title": ""
    }
   },
   "outputs": [],
   "source": [
    "import pandas as pd\n",
    "import numpy as np\n",
    "from pyspark import SparkContext\n",
    "from pyspark.sql import SparkSession\n",
    "import time"
   ]
  },
  {
   "cell_type": "markdown",
   "metadata": {
    "application/vnd.databricks.v1+cell": {
     "inputWidgets": {},
     "nuid": "8550ec86-bf78-4703-adab-44bd6eb79f4f",
     "showTitle": false,
     "title": ""
    }
   },
   "source": [
    "### Creating a Spark Session"
   ]
  },
  {
   "cell_type": "code",
   "execution_count": 3,
   "metadata": {
    "application/vnd.databricks.v1+cell": {
     "inputWidgets": {},
     "nuid": "a1ddf648-ea4c-4432-b83d-27a1f8f757d5",
     "showTitle": false,
     "title": ""
    }
   },
   "outputs": [],
   "source": [
    "spark = SparkSession.builder.appName('college-scorecard').getOrCreate()"
   ]
  },
  {
   "cell_type": "markdown",
   "metadata": {
    "application/vnd.databricks.v1+cell": {
     "inputWidgets": {},
     "nuid": "002d3a3a-4be7-46d4-8a79-78dd4fe2c305",
     "showTitle": false,
     "title": ""
    }
   },
   "source": [
    "### Reading data into a Spark Dataframe:"
   ]
  },
  {
   "cell_type": "code",
   "execution_count": 4,
   "metadata": {
    "application/vnd.databricks.v1+cell": {
     "inputWidgets": {},
     "nuid": "66c38597-0292-4df8-922a-aafe88d0e6e0",
     "showTitle": false,
     "title": ""
    }
   },
   "outputs": [
    {
     "name": "stdout",
     "output_type": "stream",
     "text": [
      "Time taken to read a spark dataframe: 3.73 seconds\n"
     ]
    }
   ],
   "source": [
    "start = time.time()\n",
    "# Read data locally \n",
    "df = spark.read.csv(\"data/Scorecard_small.csv\", header=\"true\", inferSchema=\"true\")\n",
    "#df = spark.read.csv(\"data/Scorecard.csv\", header=\"true\", inferSchema=\"true\")\n",
    "\n",
    "# Read data from S3 bucket\n",
    "#df = spark.read.csv(\"s3://sgupta4/Scorecard_small.csv\", header=\"true\", inferSchema=\"true\")\n",
    "#df = spark.read.csv(\"s3://sgupta4/Scorecard.csv\", header=\"true\", inferSchema=\"true\")\n",
    "stop = time.time()\n",
    "\n",
    "print(\"Time taken to read a spark dataframe:\", round((stop-start), 2), \"seconds\")"
   ]
  },
  {
   "cell_type": "code",
   "execution_count": 5,
   "metadata": {
    "application/vnd.databricks.v1+cell": {
     "inputWidgets": {},
     "nuid": "febcb071-fca4-48d6-b730-a428d9be4ac1",
     "showTitle": false,
     "title": ""
    }
   },
   "outputs": [
    {
     "name": "stdout",
     "output_type": "stream",
     "text": [
      "<class 'pyspark.sql.dataframe.DataFrame'>\n",
      "root\n",
      " |-- _c0: integer (nullable = true)\n",
      " |-- log_mn_earn_wne_p10: double (nullable = true)\n",
      " |-- ADM_RATE_ALL: double (nullable = true)\n",
      " |-- COSTT4_A: double (nullable = true)\n",
      " |-- UGDS_BLACK: double (nullable = true)\n",
      " |-- PPTUG_EF: double (nullable = true)\n",
      " |-- UG25abv: double (nullable = true)\n",
      " |-- PAR_ED_PCT_1STGEN: double (nullable = true)\n",
      " |-- PCTFLOAN8: double (nullable = true)\n",
      " |-- C150_4: double (nullable = true)\n",
      " |-- TUITIONFEE_OUT: double (nullable = true)\n",
      " |-- TUITIONFEE_IN: double (nullable = true)\n",
      " |-- UGDS_WHITE: double (nullable = true)\n",
      " |-- TUITFTE: double (nullable = true)\n",
      " |-- AVGFACSAL: double (nullable = true)\n",
      " |-- INC_PCT_LO: double (nullable = true)\n",
      " |-- UGDS: double (nullable = true)\n",
      " |-- PCTPELL: double (nullable = true)\n",
      " |-- DEBT_MDN: double (nullable = true)\n",
      " |-- PCTFLOAN19: double (nullable = true)\n",
      " |-- INC_PCT_H2: double (nullable = true)\n",
      "\n",
      "None\n"
     ]
    }
   ],
   "source": [
    "print(type(df))\n",
    "print(df.printSchema())\n",
    "#df.head()"
   ]
  },
  {
   "cell_type": "markdown",
   "metadata": {
    "application/vnd.databricks.v1+cell": {
     "inputWidgets": {},
     "nuid": "1e97601a-6b10-4211-844d-c51104db709d",
     "showTitle": false,
     "title": ""
    }
   },
   "source": [
    "### Coverting to a Pandas dataframe to take a look at the data:"
   ]
  },
  {
   "cell_type": "code",
   "execution_count": 6,
   "metadata": {
    "application/vnd.databricks.v1+cell": {
     "inputWidgets": {},
     "nuid": "ad399511-be80-43fd-a5db-d6525f6e1974",
     "showTitle": false,
     "title": ""
    }
   },
   "outputs": [
    {
     "data": {
      "text/html": [
       "<div>\n",
       "<style scoped>\n",
       "    .dataframe tbody tr th:only-of-type {\n",
       "        vertical-align: middle;\n",
       "    }\n",
       "\n",
       "    .dataframe tbody tr th {\n",
       "        vertical-align: top;\n",
       "    }\n",
       "\n",
       "    .dataframe thead th {\n",
       "        text-align: right;\n",
       "    }\n",
       "</style>\n",
       "<table border=\"1\" class=\"dataframe\">\n",
       "  <thead>\n",
       "    <tr style=\"text-align: right;\">\n",
       "      <th></th>\n",
       "      <th>_c0</th>\n",
       "      <th>log_mn_earn_wne_p10</th>\n",
       "      <th>ADM_RATE_ALL</th>\n",
       "      <th>COSTT4_A</th>\n",
       "      <th>UGDS_BLACK</th>\n",
       "      <th>PPTUG_EF</th>\n",
       "      <th>UG25abv</th>\n",
       "      <th>PAR_ED_PCT_1STGEN</th>\n",
       "      <th>PCTFLOAN8</th>\n",
       "      <th>C150_4</th>\n",
       "      <th>...</th>\n",
       "      <th>TUITIONFEE_IN</th>\n",
       "      <th>UGDS_WHITE</th>\n",
       "      <th>TUITFTE</th>\n",
       "      <th>AVGFACSAL</th>\n",
       "      <th>INC_PCT_LO</th>\n",
       "      <th>UGDS</th>\n",
       "      <th>PCTPELL</th>\n",
       "      <th>DEBT_MDN</th>\n",
       "      <th>PCTFLOAN19</th>\n",
       "      <th>INC_PCT_H2</th>\n",
       "    </tr>\n",
       "  </thead>\n",
       "  <tbody>\n",
       "    <tr>\n",
       "      <th>0</th>\n",
       "      <td>0</td>\n",
       "      <td>None</td>\n",
       "      <td>None</td>\n",
       "      <td>None</td>\n",
       "      <td>None</td>\n",
       "      <td>0.9752</td>\n",
       "      <td>None</td>\n",
       "      <td>None</td>\n",
       "      <td>None</td>\n",
       "      <td>None</td>\n",
       "      <td>...</td>\n",
       "      <td>None</td>\n",
       "      <td>None</td>\n",
       "      <td>None</td>\n",
       "      <td>NaN</td>\n",
       "      <td>None</td>\n",
       "      <td>44141.0</td>\n",
       "      <td>None</td>\n",
       "      <td>None</td>\n",
       "      <td>None</td>\n",
       "      <td>None</td>\n",
       "    </tr>\n",
       "    <tr>\n",
       "      <th>1</th>\n",
       "      <td>1</td>\n",
       "      <td>None</td>\n",
       "      <td>None</td>\n",
       "      <td>None</td>\n",
       "      <td>None</td>\n",
       "      <td>0.0852</td>\n",
       "      <td>None</td>\n",
       "      <td>None</td>\n",
       "      <td>None</td>\n",
       "      <td>None</td>\n",
       "      <td>...</td>\n",
       "      <td>None</td>\n",
       "      <td>None</td>\n",
       "      <td>None</td>\n",
       "      <td>4072.0</td>\n",
       "      <td>None</td>\n",
       "      <td>3852.0</td>\n",
       "      <td>None</td>\n",
       "      <td>None</td>\n",
       "      <td>None</td>\n",
       "      <td>None</td>\n",
       "    </tr>\n",
       "    <tr>\n",
       "      <th>2</th>\n",
       "      <td>2</td>\n",
       "      <td>None</td>\n",
       "      <td>None</td>\n",
       "      <td>None</td>\n",
       "      <td>None</td>\n",
       "      <td>0.3455</td>\n",
       "      <td>None</td>\n",
       "      <td>None</td>\n",
       "      <td>None</td>\n",
       "      <td>None</td>\n",
       "      <td>...</td>\n",
       "      <td>None</td>\n",
       "      <td>None</td>\n",
       "      <td>None</td>\n",
       "      <td>5708.0</td>\n",
       "      <td>None</td>\n",
       "      <td>9889.0</td>\n",
       "      <td>None</td>\n",
       "      <td>None</td>\n",
       "      <td>None</td>\n",
       "      <td>None</td>\n",
       "    </tr>\n",
       "    <tr>\n",
       "      <th>3</th>\n",
       "      <td>3</td>\n",
       "      <td>None</td>\n",
       "      <td>None</td>\n",
       "      <td>None</td>\n",
       "      <td>None</td>\n",
       "      <td>0.1458</td>\n",
       "      <td>None</td>\n",
       "      <td>None</td>\n",
       "      <td>None</td>\n",
       "      <td>None</td>\n",
       "      <td>...</td>\n",
       "      <td>None</td>\n",
       "      <td>None</td>\n",
       "      <td>None</td>\n",
       "      <td>4174.0</td>\n",
       "      <td>None</td>\n",
       "      <td>295.0</td>\n",
       "      <td>None</td>\n",
       "      <td>None</td>\n",
       "      <td>None</td>\n",
       "      <td>None</td>\n",
       "    </tr>\n",
       "    <tr>\n",
       "      <th>4</th>\n",
       "      <td>4</td>\n",
       "      <td>None</td>\n",
       "      <td>None</td>\n",
       "      <td>None</td>\n",
       "      <td>None</td>\n",
       "      <td>0.8667</td>\n",
       "      <td>None</td>\n",
       "      <td>None</td>\n",
       "      <td>None</td>\n",
       "      <td>None</td>\n",
       "      <td>...</td>\n",
       "      <td>None</td>\n",
       "      <td>None</td>\n",
       "      <td>None</td>\n",
       "      <td>3092.0</td>\n",
       "      <td>None</td>\n",
       "      <td>60.0</td>\n",
       "      <td>None</td>\n",
       "      <td>None</td>\n",
       "      <td>None</td>\n",
       "      <td>None</td>\n",
       "    </tr>\n",
       "  </tbody>\n",
       "</table>\n",
       "<p>5 rows × 21 columns</p>\n",
       "</div>"
      ],
      "text/plain": [
       "   _c0 log_mn_earn_wne_p10 ADM_RATE_ALL COSTT4_A UGDS_BLACK  PPTUG_EF UG25abv  \\\n",
       "0    0                None         None     None       None    0.9752    None   \n",
       "1    1                None         None     None       None    0.0852    None   \n",
       "2    2                None         None     None       None    0.3455    None   \n",
       "3    3                None         None     None       None    0.1458    None   \n",
       "4    4                None         None     None       None    0.8667    None   \n",
       "\n",
       "  PAR_ED_PCT_1STGEN PCTFLOAN8 C150_4  ... TUITIONFEE_IN UGDS_WHITE TUITFTE  \\\n",
       "0              None      None   None  ...          None       None    None   \n",
       "1              None      None   None  ...          None       None    None   \n",
       "2              None      None   None  ...          None       None    None   \n",
       "3              None      None   None  ...          None       None    None   \n",
       "4              None      None   None  ...          None       None    None   \n",
       "\n",
       "  AVGFACSAL  INC_PCT_LO     UGDS  PCTPELL DEBT_MDN PCTFLOAN19 INC_PCT_H2  \n",
       "0       NaN        None  44141.0     None     None       None       None  \n",
       "1    4072.0        None   3852.0     None     None       None       None  \n",
       "2    5708.0        None   9889.0     None     None       None       None  \n",
       "3    4174.0        None    295.0     None     None       None       None  \n",
       "4    3092.0        None     60.0     None     None       None       None  \n",
       "\n",
       "[5 rows x 21 columns]"
      ]
     },
     "execution_count": 6,
     "metadata": {},
     "output_type": "execute_result"
    }
   ],
   "source": [
    "pd.DataFrame(df.take(5), columns=df.columns)"
   ]
  },
  {
   "cell_type": "code",
   "execution_count": 7,
   "metadata": {
    "application/vnd.databricks.v1+cell": {
     "inputWidgets": {},
     "nuid": "c6939c5f-ea5b-4955-bfe4-a1318e240f1e",
     "showTitle": false,
     "title": ""
    }
   },
   "outputs": [
    {
     "data": {
      "text/html": [
       "<div>\n",
       "<style scoped>\n",
       "    .dataframe tbody tr th:only-of-type {\n",
       "        vertical-align: middle;\n",
       "    }\n",
       "\n",
       "    .dataframe tbody tr th {\n",
       "        vertical-align: top;\n",
       "    }\n",
       "\n",
       "    .dataframe thead th {\n",
       "        text-align: right;\n",
       "    }\n",
       "</style>\n",
       "<table border=\"1\" class=\"dataframe\">\n",
       "  <thead>\n",
       "    <tr style=\"text-align: right;\">\n",
       "      <th></th>\n",
       "      <th>_c0</th>\n",
       "      <th>log_mn_earn_wne_p10</th>\n",
       "      <th>ADM_RATE_ALL</th>\n",
       "      <th>COSTT4_A</th>\n",
       "      <th>UGDS_BLACK</th>\n",
       "      <th>PPTUG_EF</th>\n",
       "      <th>UG25abv</th>\n",
       "      <th>PAR_ED_PCT_1STGEN</th>\n",
       "      <th>PCTFLOAN8</th>\n",
       "      <th>C150_4</th>\n",
       "      <th>...</th>\n",
       "      <th>TUITIONFEE_IN</th>\n",
       "      <th>UGDS_WHITE</th>\n",
       "      <th>TUITFTE</th>\n",
       "      <th>AVGFACSAL</th>\n",
       "      <th>INC_PCT_LO</th>\n",
       "      <th>UGDS</th>\n",
       "      <th>PCTPELL</th>\n",
       "      <th>DEBT_MDN</th>\n",
       "      <th>PCTFLOAN19</th>\n",
       "      <th>INC_PCT_H2</th>\n",
       "    </tr>\n",
       "  </thead>\n",
       "  <tbody>\n",
       "    <tr>\n",
       "      <th>0</th>\n",
       "      <td>0</td>\n",
       "      <td>NaN</td>\n",
       "      <td>NaN</td>\n",
       "      <td>NaN</td>\n",
       "      <td>NaN</td>\n",
       "      <td>0.9752</td>\n",
       "      <td>NaN</td>\n",
       "      <td>NaN</td>\n",
       "      <td>NaN</td>\n",
       "      <td>NaN</td>\n",
       "      <td>...</td>\n",
       "      <td>NaN</td>\n",
       "      <td>NaN</td>\n",
       "      <td>NaN</td>\n",
       "      <td>NaN</td>\n",
       "      <td>NaN</td>\n",
       "      <td>44141.0</td>\n",
       "      <td>NaN</td>\n",
       "      <td>NaN</td>\n",
       "      <td>NaN</td>\n",
       "      <td>NaN</td>\n",
       "    </tr>\n",
       "    <tr>\n",
       "      <th>1</th>\n",
       "      <td>1</td>\n",
       "      <td>NaN</td>\n",
       "      <td>NaN</td>\n",
       "      <td>NaN</td>\n",
       "      <td>NaN</td>\n",
       "      <td>0.0852</td>\n",
       "      <td>NaN</td>\n",
       "      <td>NaN</td>\n",
       "      <td>NaN</td>\n",
       "      <td>NaN</td>\n",
       "      <td>...</td>\n",
       "      <td>NaN</td>\n",
       "      <td>NaN</td>\n",
       "      <td>NaN</td>\n",
       "      <td>4072.0</td>\n",
       "      <td>NaN</td>\n",
       "      <td>3852.0</td>\n",
       "      <td>NaN</td>\n",
       "      <td>NaN</td>\n",
       "      <td>NaN</td>\n",
       "      <td>NaN</td>\n",
       "    </tr>\n",
       "    <tr>\n",
       "      <th>2</th>\n",
       "      <td>2</td>\n",
       "      <td>NaN</td>\n",
       "      <td>NaN</td>\n",
       "      <td>NaN</td>\n",
       "      <td>NaN</td>\n",
       "      <td>0.3455</td>\n",
       "      <td>NaN</td>\n",
       "      <td>NaN</td>\n",
       "      <td>NaN</td>\n",
       "      <td>NaN</td>\n",
       "      <td>...</td>\n",
       "      <td>NaN</td>\n",
       "      <td>NaN</td>\n",
       "      <td>NaN</td>\n",
       "      <td>5708.0</td>\n",
       "      <td>NaN</td>\n",
       "      <td>9889.0</td>\n",
       "      <td>NaN</td>\n",
       "      <td>NaN</td>\n",
       "      <td>NaN</td>\n",
       "      <td>NaN</td>\n",
       "    </tr>\n",
       "    <tr>\n",
       "      <th>3</th>\n",
       "      <td>3</td>\n",
       "      <td>NaN</td>\n",
       "      <td>NaN</td>\n",
       "      <td>NaN</td>\n",
       "      <td>NaN</td>\n",
       "      <td>0.1458</td>\n",
       "      <td>NaN</td>\n",
       "      <td>NaN</td>\n",
       "      <td>NaN</td>\n",
       "      <td>NaN</td>\n",
       "      <td>...</td>\n",
       "      <td>NaN</td>\n",
       "      <td>NaN</td>\n",
       "      <td>NaN</td>\n",
       "      <td>4174.0</td>\n",
       "      <td>NaN</td>\n",
       "      <td>295.0</td>\n",
       "      <td>NaN</td>\n",
       "      <td>NaN</td>\n",
       "      <td>NaN</td>\n",
       "      <td>NaN</td>\n",
       "    </tr>\n",
       "    <tr>\n",
       "      <th>4</th>\n",
       "      <td>4</td>\n",
       "      <td>NaN</td>\n",
       "      <td>NaN</td>\n",
       "      <td>NaN</td>\n",
       "      <td>NaN</td>\n",
       "      <td>0.8667</td>\n",
       "      <td>NaN</td>\n",
       "      <td>NaN</td>\n",
       "      <td>NaN</td>\n",
       "      <td>NaN</td>\n",
       "      <td>...</td>\n",
       "      <td>NaN</td>\n",
       "      <td>NaN</td>\n",
       "      <td>NaN</td>\n",
       "      <td>3092.0</td>\n",
       "      <td>NaN</td>\n",
       "      <td>60.0</td>\n",
       "      <td>NaN</td>\n",
       "      <td>NaN</td>\n",
       "      <td>NaN</td>\n",
       "      <td>NaN</td>\n",
       "    </tr>\n",
       "    <tr>\n",
       "      <th>...</th>\n",
       "      <td>...</td>\n",
       "      <td>...</td>\n",
       "      <td>...</td>\n",
       "      <td>...</td>\n",
       "      <td>...</td>\n",
       "      <td>...</td>\n",
       "      <td>...</td>\n",
       "      <td>...</td>\n",
       "      <td>...</td>\n",
       "      <td>...</td>\n",
       "      <td>...</td>\n",
       "      <td>...</td>\n",
       "      <td>...</td>\n",
       "      <td>...</td>\n",
       "      <td>...</td>\n",
       "      <td>...</td>\n",
       "      <td>...</td>\n",
       "      <td>...</td>\n",
       "      <td>...</td>\n",
       "      <td>...</td>\n",
       "      <td>...</td>\n",
       "    </tr>\n",
       "    <tr>\n",
       "      <th>124694</th>\n",
       "      <td>124694</td>\n",
       "      <td>NaN</td>\n",
       "      <td>NaN</td>\n",
       "      <td>NaN</td>\n",
       "      <td>NaN</td>\n",
       "      <td>NaN</td>\n",
       "      <td>NaN</td>\n",
       "      <td>0.446187</td>\n",
       "      <td>NaN</td>\n",
       "      <td>NaN</td>\n",
       "      <td>...</td>\n",
       "      <td>6276.0</td>\n",
       "      <td>NaN</td>\n",
       "      <td>NaN</td>\n",
       "      <td>NaN</td>\n",
       "      <td>NaN</td>\n",
       "      <td>NaN</td>\n",
       "      <td>NaN</td>\n",
       "      <td>6076.0</td>\n",
       "      <td>NaN</td>\n",
       "      <td>NaN</td>\n",
       "    </tr>\n",
       "    <tr>\n",
       "      <th>124695</th>\n",
       "      <td>124695</td>\n",
       "      <td>NaN</td>\n",
       "      <td>NaN</td>\n",
       "      <td>NaN</td>\n",
       "      <td>NaN</td>\n",
       "      <td>NaN</td>\n",
       "      <td>NaN</td>\n",
       "      <td>0.446187</td>\n",
       "      <td>NaN</td>\n",
       "      <td>NaN</td>\n",
       "      <td>...</td>\n",
       "      <td>5271.0</td>\n",
       "      <td>NaN</td>\n",
       "      <td>NaN</td>\n",
       "      <td>NaN</td>\n",
       "      <td>NaN</td>\n",
       "      <td>NaN</td>\n",
       "      <td>NaN</td>\n",
       "      <td>6076.0</td>\n",
       "      <td>NaN</td>\n",
       "      <td>NaN</td>\n",
       "    </tr>\n",
       "    <tr>\n",
       "      <th>124696</th>\n",
       "      <td>124696</td>\n",
       "      <td>NaN</td>\n",
       "      <td>NaN</td>\n",
       "      <td>NaN</td>\n",
       "      <td>NaN</td>\n",
       "      <td>NaN</td>\n",
       "      <td>NaN</td>\n",
       "      <td>0.446187</td>\n",
       "      <td>NaN</td>\n",
       "      <td>NaN</td>\n",
       "      <td>...</td>\n",
       "      <td>5148.0</td>\n",
       "      <td>NaN</td>\n",
       "      <td>NaN</td>\n",
       "      <td>NaN</td>\n",
       "      <td>NaN</td>\n",
       "      <td>NaN</td>\n",
       "      <td>NaN</td>\n",
       "      <td>6076.0</td>\n",
       "      <td>NaN</td>\n",
       "      <td>NaN</td>\n",
       "    </tr>\n",
       "    <tr>\n",
       "      <th>124697</th>\n",
       "      <td>124697</td>\n",
       "      <td>NaN</td>\n",
       "      <td>NaN</td>\n",
       "      <td>NaN</td>\n",
       "      <td>NaN</td>\n",
       "      <td>NaN</td>\n",
       "      <td>NaN</td>\n",
       "      <td>0.446187</td>\n",
       "      <td>NaN</td>\n",
       "      <td>NaN</td>\n",
       "      <td>...</td>\n",
       "      <td>6900.0</td>\n",
       "      <td>NaN</td>\n",
       "      <td>NaN</td>\n",
       "      <td>NaN</td>\n",
       "      <td>NaN</td>\n",
       "      <td>NaN</td>\n",
       "      <td>NaN</td>\n",
       "      <td>6076.0</td>\n",
       "      <td>NaN</td>\n",
       "      <td>NaN</td>\n",
       "    </tr>\n",
       "    <tr>\n",
       "      <th>124698</th>\n",
       "      <td>124698</td>\n",
       "      <td>NaN</td>\n",
       "      <td>NaN</td>\n",
       "      <td>NaN</td>\n",
       "      <td>NaN</td>\n",
       "      <td>NaN</td>\n",
       "      <td>NaN</td>\n",
       "      <td>0.446187</td>\n",
       "      <td>NaN</td>\n",
       "      <td>NaN</td>\n",
       "      <td>...</td>\n",
       "      <td>5916.0</td>\n",
       "      <td>NaN</td>\n",
       "      <td>NaN</td>\n",
       "      <td>NaN</td>\n",
       "      <td>NaN</td>\n",
       "      <td>NaN</td>\n",
       "      <td>NaN</td>\n",
       "      <td>6076.0</td>\n",
       "      <td>NaN</td>\n",
       "      <td>NaN</td>\n",
       "    </tr>\n",
       "  </tbody>\n",
       "</table>\n",
       "<p>124699 rows × 21 columns</p>\n",
       "</div>"
      ],
      "text/plain": [
       "           _c0  log_mn_earn_wne_p10  ADM_RATE_ALL  COSTT4_A  UGDS_BLACK  \\\n",
       "0            0                  NaN           NaN       NaN         NaN   \n",
       "1            1                  NaN           NaN       NaN         NaN   \n",
       "2            2                  NaN           NaN       NaN         NaN   \n",
       "3            3                  NaN           NaN       NaN         NaN   \n",
       "4            4                  NaN           NaN       NaN         NaN   \n",
       "...        ...                  ...           ...       ...         ...   \n",
       "124694  124694                  NaN           NaN       NaN         NaN   \n",
       "124695  124695                  NaN           NaN       NaN         NaN   \n",
       "124696  124696                  NaN           NaN       NaN         NaN   \n",
       "124697  124697                  NaN           NaN       NaN         NaN   \n",
       "124698  124698                  NaN           NaN       NaN         NaN   \n",
       "\n",
       "        PPTUG_EF  UG25abv  PAR_ED_PCT_1STGEN  PCTFLOAN8  C150_4  ...  \\\n",
       "0         0.9752      NaN                NaN        NaN     NaN  ...   \n",
       "1         0.0852      NaN                NaN        NaN     NaN  ...   \n",
       "2         0.3455      NaN                NaN        NaN     NaN  ...   \n",
       "3         0.1458      NaN                NaN        NaN     NaN  ...   \n",
       "4         0.8667      NaN                NaN        NaN     NaN  ...   \n",
       "...          ...      ...                ...        ...     ...  ...   \n",
       "124694       NaN      NaN           0.446187        NaN     NaN  ...   \n",
       "124695       NaN      NaN           0.446187        NaN     NaN  ...   \n",
       "124696       NaN      NaN           0.446187        NaN     NaN  ...   \n",
       "124697       NaN      NaN           0.446187        NaN     NaN  ...   \n",
       "124698       NaN      NaN           0.446187        NaN     NaN  ...   \n",
       "\n",
       "        TUITIONFEE_IN  UGDS_WHITE  TUITFTE  AVGFACSAL  INC_PCT_LO     UGDS  \\\n",
       "0                 NaN         NaN      NaN        NaN         NaN  44141.0   \n",
       "1                 NaN         NaN      NaN     4072.0         NaN   3852.0   \n",
       "2                 NaN         NaN      NaN     5708.0         NaN   9889.0   \n",
       "3                 NaN         NaN      NaN     4174.0         NaN    295.0   \n",
       "4                 NaN         NaN      NaN     3092.0         NaN     60.0   \n",
       "...               ...         ...      ...        ...         ...      ...   \n",
       "124694         6276.0         NaN      NaN        NaN         NaN      NaN   \n",
       "124695         5271.0         NaN      NaN        NaN         NaN      NaN   \n",
       "124696         5148.0         NaN      NaN        NaN         NaN      NaN   \n",
       "124697         6900.0         NaN      NaN        NaN         NaN      NaN   \n",
       "124698         5916.0         NaN      NaN        NaN         NaN      NaN   \n",
       "\n",
       "        PCTPELL  DEBT_MDN  PCTFLOAN19  INC_PCT_H2  \n",
       "0           NaN       NaN         NaN         NaN  \n",
       "1           NaN       NaN         NaN         NaN  \n",
       "2           NaN       NaN         NaN         NaN  \n",
       "3           NaN       NaN         NaN         NaN  \n",
       "4           NaN       NaN         NaN         NaN  \n",
       "...         ...       ...         ...         ...  \n",
       "124694      NaN    6076.0         NaN         NaN  \n",
       "124695      NaN    6076.0         NaN         NaN  \n",
       "124696      NaN    6076.0         NaN         NaN  \n",
       "124697      NaN    6076.0         NaN         NaN  \n",
       "124698      NaN    6076.0         NaN         NaN  \n",
       "\n",
       "[124699 rows x 21 columns]"
      ]
     },
     "execution_count": 7,
     "metadata": {},
     "output_type": "execute_result"
    }
   ],
   "source": [
    "df.toPandas()"
   ]
  },
  {
   "cell_type": "code",
   "execution_count": 8,
   "metadata": {
    "application/vnd.databricks.v1+cell": {
     "inputWidgets": {},
     "nuid": "a7c57e0b-b87d-48eb-9875-dbd0a5148bef",
     "showTitle": false,
     "title": ""
    }
   },
   "outputs": [
    {
     "data": {
      "text/plain": [
       "[('_c0', 'int'),\n",
       " ('log_mn_earn_wne_p10', 'double'),\n",
       " ('ADM_RATE_ALL', 'double'),\n",
       " ('COSTT4_A', 'double'),\n",
       " ('UGDS_BLACK', 'double'),\n",
       " ('PPTUG_EF', 'double'),\n",
       " ('UG25abv', 'double'),\n",
       " ('PAR_ED_PCT_1STGEN', 'double'),\n",
       " ('PCTFLOAN8', 'double'),\n",
       " ('C150_4', 'double'),\n",
       " ('TUITIONFEE_OUT', 'double'),\n",
       " ('TUITIONFEE_IN', 'double'),\n",
       " ('UGDS_WHITE', 'double'),\n",
       " ('TUITFTE', 'double'),\n",
       " ('AVGFACSAL', 'double'),\n",
       " ('INC_PCT_LO', 'double'),\n",
       " ('UGDS', 'double'),\n",
       " ('PCTPELL', 'double'),\n",
       " ('DEBT_MDN', 'double'),\n",
       " ('PCTFLOAN19', 'double'),\n",
       " ('INC_PCT_H2', 'double')]"
      ]
     },
     "execution_count": 8,
     "metadata": {},
     "output_type": "execute_result"
    }
   ],
   "source": [
    "df.dtypes"
   ]
  },
  {
   "cell_type": "markdown",
   "metadata": {
    "application/vnd.databricks.v1+cell": {
     "inputWidgets": {},
     "nuid": "3173a20b-1219-4fa8-a265-bf9e9dd4e4f3",
     "showTitle": false,
     "title": ""
    }
   },
   "source": [
    "#### Dropping c0 column (index column)"
   ]
  },
  {
   "cell_type": "code",
   "execution_count": 9,
   "metadata": {
    "application/vnd.databricks.v1+cell": {
     "inputWidgets": {},
     "nuid": "8219a0fd-2549-4064-b570-cba8a7a483d7",
     "showTitle": false,
     "title": ""
    }
   },
   "outputs": [],
   "source": [
    "df = df.drop(\"_c0\")"
   ]
  },
  {
   "cell_type": "code",
   "execution_count": 10,
   "metadata": {
    "application/vnd.databricks.v1+cell": {
     "inputWidgets": {},
     "nuid": "770d05cd-ff87-4a26-a5f3-ebf17835d89a",
     "showTitle": false,
     "title": ""
    }
   },
   "outputs": [
    {
     "data": {
      "text/plain": [
       "DataFrame[log_mn_earn_wne_p10: double, ADM_RATE_ALL: double, COSTT4_A: double, UGDS_BLACK: double, PPTUG_EF: double, UG25abv: double, PAR_ED_PCT_1STGEN: double, PCTFLOAN8: double, C150_4: double, TUITIONFEE_OUT: double, TUITIONFEE_IN: double, UGDS_WHITE: double, TUITFTE: double, AVGFACSAL: double, INC_PCT_LO: double, UGDS: double, PCTPELL: double, DEBT_MDN: double, PCTFLOAN19: double, INC_PCT_H2: double]"
      ]
     },
     "execution_count": 10,
     "metadata": {},
     "output_type": "execute_result"
    }
   ],
   "source": [
    "df"
   ]
  },
  {
   "cell_type": "markdown",
   "metadata": {
    "application/vnd.databricks.v1+cell": {
     "inputWidgets": {},
     "nuid": "e9e3195b-0dce-4e75-b92d-f0da5c18f55b",
     "showTitle": false,
     "title": ""
    }
   },
   "source": [
    "### Handling missing data:"
   ]
  },
  {
   "cell_type": "code",
   "execution_count": 11,
   "metadata": {
    "application/vnd.databricks.v1+cell": {
     "inputWidgets": {},
     "nuid": "da53fd12-6842-4fa4-81d6-1e9ebc323537",
     "showTitle": false,
     "title": ""
    }
   },
   "outputs": [
    {
     "name": "stdout",
     "output_type": "stream",
     "text": [
      "+-------------------+------------+--------+----------+--------+-------+-----------------+---------+------+--------------+-------------+----------+-------+---------+----------+-----+-------+--------+----------+----------+\n",
      "|log_mn_earn_wne_p10|ADM_RATE_ALL|COSTT4_A|UGDS_BLACK|PPTUG_EF|UG25abv|PAR_ED_PCT_1STGEN|PCTFLOAN8|C150_4|TUITIONFEE_OUT|TUITIONFEE_IN|UGDS_WHITE|TUITFTE|AVGFACSAL|INC_PCT_LO| UGDS|PCTPELL|DEBT_MDN|PCTFLOAN19|INC_PCT_H2|\n",
      "+-------------------+------------+--------+----------+--------+-------+-----------------+---------+------+--------------+-------------+----------+-------+---------+----------+-----+-------+--------+----------+----------+\n",
      "|             108106|       87314|  104195|     83535|   15318|  72108|            21888|    90255| 89819|         67855|        66675|     83535|  18644|    55047|     61214|14356|  83834|   29830|     90255|     76369|\n",
      "+-------------------+------------+--------+----------+--------+-------+-----------------+---------+------+--------------+-------------+----------+-------+---------+----------+-----+-------+--------+----------+----------+\n",
      "\n"
     ]
    }
   ],
   "source": [
    "# Missing Data\n",
    "from pyspark.sql.functions import isnull, when, count, col\n",
    "\n",
    "df.select([count(when(isnull(c), c)).alias(c) for c in df.columns]).show()"
   ]
  },
  {
   "cell_type": "code",
   "execution_count": 12,
   "metadata": {
    "application/vnd.databricks.v1+cell": {
     "inputWidgets": {},
     "nuid": "a9567805-463b-450d-8809-a20fc9953618",
     "showTitle": false,
     "title": ""
    }
   },
   "outputs": [],
   "source": [
    "from collections import defaultdict\n",
    "\n",
    "data_types = defaultdict(list)\n",
    "for entry in df.schema.fields:\n",
    "    data_types[str(entry.dataType)].append(entry.name)"
   ]
  },
  {
   "cell_type": "code",
   "execution_count": 13,
   "metadata": {
    "application/vnd.databricks.v1+cell": {
     "inputWidgets": {},
     "nuid": "896d8b1f-e234-4d76-82ed-febc1b74ba37",
     "showTitle": false,
     "title": ""
    }
   },
   "outputs": [
    {
     "data": {
      "text/plain": [
       "defaultdict(list,\n",
       "            {'DoubleType': ['log_mn_earn_wne_p10',\n",
       "              'ADM_RATE_ALL',\n",
       "              'COSTT4_A',\n",
       "              'UGDS_BLACK',\n",
       "              'PPTUG_EF',\n",
       "              'UG25abv',\n",
       "              'PAR_ED_PCT_1STGEN',\n",
       "              'PCTFLOAN8',\n",
       "              'C150_4',\n",
       "              'TUITIONFEE_OUT',\n",
       "              'TUITIONFEE_IN',\n",
       "              'UGDS_WHITE',\n",
       "              'TUITFTE',\n",
       "              'AVGFACSAL',\n",
       "              'INC_PCT_LO',\n",
       "              'UGDS',\n",
       "              'PCTPELL',\n",
       "              'DEBT_MDN',\n",
       "              'PCTFLOAN19',\n",
       "              'INC_PCT_H2']})"
      ]
     },
     "execution_count": 13,
     "metadata": {},
     "output_type": "execute_result"
    }
   ],
   "source": [
    "data_types"
   ]
  },
  {
   "cell_type": "markdown",
   "metadata": {
    "application/vnd.databricks.v1+cell": {
     "inputWidgets": {},
     "nuid": "a9e970cc-6fdd-44d2-96d6-bc87fd726eaf",
     "showTitle": false,
     "title": ""
    }
   },
   "source": [
    "### Using Imputer library in Spark"
   ]
  },
  {
   "cell_type": "code",
   "execution_count": 14,
   "metadata": {
    "application/vnd.databricks.v1+cell": {
     "inputWidgets": {},
     "nuid": "4d95c18f-dfcf-482d-979d-60fc828f8120",
     "showTitle": false,
     "title": ""
    }
   },
   "outputs": [
    {
     "name": "stdout",
     "output_type": "stream",
     "text": [
      "Time taken to Impute Data: 1.41 seconds\n"
     ]
    }
   ],
   "source": [
    "start = time.time()\n",
    "\n",
    "numericals = data_types[\"DoubleType\"]\n",
    "numericals = [var for var in numericals]\n",
    "#and numericals_imputed = [var + \"_imputed\" for var in numericals]\n",
    "\n",
    "from pyspark.ml.feature import Imputer\n",
    "imputer = Imputer(inputCols = numericals, outputCols = numericals)\n",
    "df = imputer.fit(df).transform(df)\n",
    "\n",
    "stop = time.time()\n",
    "\n",
    "print('Time taken to Impute Data:', round((stop-start), 2), 'seconds')"
   ]
  },
  {
   "cell_type": "code",
   "execution_count": 15,
   "metadata": {
    "application/vnd.databricks.v1+cell": {
     "inputWidgets": {},
     "nuid": "f44880a0-c81e-4004-a66f-4bf78194309f",
     "showTitle": false,
     "title": ""
    }
   },
   "outputs": [
    {
     "name": "stdout",
     "output_type": "stream",
     "text": [
      "+-------------------+------------+--------+----------+--------+-------+-----------------+---------+------+--------------+-------------+----------+-------+---------+----------+----+-------+--------+----------+----------+\n",
      "|log_mn_earn_wne_p10|ADM_RATE_ALL|COSTT4_A|UGDS_BLACK|PPTUG_EF|UG25abv|PAR_ED_PCT_1STGEN|PCTFLOAN8|C150_4|TUITIONFEE_OUT|TUITIONFEE_IN|UGDS_WHITE|TUITFTE|AVGFACSAL|INC_PCT_LO|UGDS|PCTPELL|DEBT_MDN|PCTFLOAN19|INC_PCT_H2|\n",
      "+-------------------+------------+--------+----------+--------+-------+-----------------+---------+------+--------------+-------------+----------+-------+---------+----------+----+-------+--------+----------+----------+\n",
      "|                  0|           0|       0|         0|       0|      0|                0|        0|     0|             0|            0|         0|      0|        0|         0|   0|      0|       0|         0|         0|\n",
      "+-------------------+------------+--------+----------+--------+-------+-----------------+---------+------+--------------+-------------+----------+-------+---------+----------+----+-------+--------+----------+----------+\n",
      "\n"
     ]
    }
   ],
   "source": [
    "# Checking for missing data again\n",
    "from pyspark.sql.functions import isnull, when, count, col\n",
    "\n",
    "df.select([count(when(isnull(c), c)).alias(c) for c in df.columns]).show()"
   ]
  },
  {
   "cell_type": "code",
   "execution_count": 16,
   "metadata": {
    "application/vnd.databricks.v1+cell": {
     "inputWidgets": {},
     "nuid": "a1b6f918-5b97-453d-9bd3-1e9d31c0ba7b",
     "showTitle": false,
     "title": ""
    }
   },
   "outputs": [
    {
     "data": {
      "text/plain": [
       "[('log_mn_earn_wne_p10', 'double'),\n",
       " ('ADM_RATE_ALL', 'double'),\n",
       " ('COSTT4_A', 'double'),\n",
       " ('UGDS_BLACK', 'double'),\n",
       " ('PPTUG_EF', 'double'),\n",
       " ('UG25abv', 'double'),\n",
       " ('PAR_ED_PCT_1STGEN', 'double'),\n",
       " ('PCTFLOAN8', 'double'),\n",
       " ('C150_4', 'double'),\n",
       " ('TUITIONFEE_OUT', 'double'),\n",
       " ('TUITIONFEE_IN', 'double'),\n",
       " ('UGDS_WHITE', 'double'),\n",
       " ('TUITFTE', 'double'),\n",
       " ('AVGFACSAL', 'double'),\n",
       " ('INC_PCT_LO', 'double'),\n",
       " ('UGDS', 'double'),\n",
       " ('PCTPELL', 'double'),\n",
       " ('DEBT_MDN', 'double'),\n",
       " ('PCTFLOAN19', 'double'),\n",
       " ('INC_PCT_H2', 'double')]"
      ]
     },
     "execution_count": 16,
     "metadata": {},
     "output_type": "execute_result"
    }
   ],
   "source": [
    "df.dtypes"
   ]
  },
  {
   "cell_type": "code",
   "execution_count": 17,
   "metadata": {
    "application/vnd.databricks.v1+cell": {
     "inputWidgets": {},
     "nuid": "6ed24f9a-dbff-4373-9787-ad142e35cc79",
     "showTitle": false,
     "title": ""
    }
   },
   "outputs": [
    {
     "name": "stdout",
     "output_type": "stream",
     "text": [
      "['ADM_RATE_ALL', 'COSTT4_A', 'UGDS_BLACK', 'PPTUG_EF', 'UG25abv', 'PAR_ED_PCT_1STGEN', 'PCTFLOAN8', 'C150_4', 'TUITIONFEE_OUT', 'TUITIONFEE_IN', 'UGDS_WHITE', 'TUITFTE', 'AVGFACSAL', 'INC_PCT_LO', 'UGDS', 'PCTPELL', 'DEBT_MDN', 'PCTFLOAN19', 'INC_PCT_H2']\n"
     ]
    }
   ],
   "source": [
    "features_cols = list(df.columns)\n",
    "#print(features_cols)\n",
    "\n",
    "# Remove response variable from feature list\n",
    "features_cols.remove(\"log_mn_earn_wne_p10\")\n",
    "print(features_cols)"
   ]
  },
  {
   "cell_type": "code",
   "execution_count": 18,
   "metadata": {
    "application/vnd.databricks.v1+cell": {
     "inputWidgets": {},
     "nuid": "8affcbe4-817c-4353-81e2-7e69a47e19ba",
     "showTitle": false,
     "title": ""
    }
   },
   "outputs": [
    {
     "name": "stdout",
     "output_type": "stream",
     "text": [
      "+-------------------+--------------------+\n",
      "|log_mn_earn_wne_p10|            features|\n",
      "+-------------------+--------------------+\n",
      "| 10.486485368440269|[0.69834354955196...|\n",
      "| 10.486485368440269|[0.69834354955196...|\n",
      "| 10.486485368440269|[0.69834354955196...|\n",
      "| 10.486485368440269|[0.69834354955196...|\n",
      "| 10.486485368440269|[0.69834354955196...|\n",
      "+-------------------+--------------------+\n",
      "only showing top 5 rows\n",
      "\n"
     ]
    }
   ],
   "source": [
    "from pyspark.ml.feature import VectorAssembler\n",
    "\n",
    "# Create the vector assembler transformer\n",
    "vec = VectorAssembler(inputCols=features_cols, outputCol='features')\n",
    "\n",
    "# Apply the vector transformer to data\n",
    "df = vec.transform(df)\n",
    "\n",
    "# Select only the dependent variable and features\n",
    "ml_ready_df = df.select(['log_mn_earn_wne_p10','features'])\n",
    "# Inspect Results\n",
    "ml_ready_df.show(5)"
   ]
  },
  {
   "cell_type": "code",
   "execution_count": 19,
   "metadata": {
    "application/vnd.databricks.v1+cell": {
     "inputWidgets": {},
     "nuid": "fa611383-be4a-4e7a-8444-4e5fc51fabf7",
     "showTitle": false,
     "title": ""
    }
   },
   "outputs": [
    {
     "data": {
      "text/plain": [
       "<bound method DataFrame.printSchema of DataFrame[log_mn_earn_wne_p10: double, features: vector]>"
      ]
     },
     "execution_count": 19,
     "metadata": {},
     "output_type": "execute_result"
    }
   ],
   "source": [
    "ml_ready_df.printSchema"
   ]
  },
  {
   "cell_type": "code",
   "execution_count": 20,
   "metadata": {
    "application/vnd.databricks.v1+cell": {
     "inputWidgets": {},
     "nuid": "ef240a76-5623-4773-a9eb-4985051f8674",
     "showTitle": false,
     "title": ""
    }
   },
   "outputs": [
    {
     "data": {
      "text/plain": [
       "DataFrame[log_mn_earn_wne_p10: double, features: vector]"
      ]
     },
     "execution_count": 20,
     "metadata": {},
     "output_type": "execute_result"
    }
   ],
   "source": [
    "ml_ready_df"
   ]
  },
  {
   "cell_type": "code",
   "execution_count": 21,
   "metadata": {
    "application/vnd.databricks.v1+cell": {
     "inputWidgets": {},
     "nuid": "311d8c76-946b-4380-94c4-58f80faeb5e6",
     "showTitle": false,
     "title": ""
    }
   },
   "outputs": [],
   "source": [
    "ml_ready_df = ml_ready_df.withColumnRenamed(\"log_mn_earn_wne_p10\", \"label\")"
   ]
  },
  {
   "cell_type": "code",
   "execution_count": 22,
   "metadata": {
    "application/vnd.databricks.v1+cell": {
     "inputWidgets": {},
     "nuid": "00c09878-56ff-4f2b-8bea-ca3c04368128",
     "showTitle": false,
     "title": ""
    }
   },
   "outputs": [
    {
     "data": {
      "text/plain": [
       "DataFrame[label: double, features: vector]"
      ]
     },
     "execution_count": 22,
     "metadata": {},
     "output_type": "execute_result"
    }
   ],
   "source": [
    "ml_ready_df"
   ]
  },
  {
   "cell_type": "markdown",
   "metadata": {
    "application/vnd.databricks.v1+cell": {
     "inputWidgets": {},
     "nuid": "0dad2d70-db77-48bd-b010-1c25d5b6ff6e",
     "showTitle": false,
     "title": ""
    }
   },
   "source": [
    "#### Splitting into training and test data"
   ]
  },
  {
   "cell_type": "code",
   "execution_count": 23,
   "metadata": {
    "application/vnd.databricks.v1+cell": {
     "inputWidgets": {},
     "nuid": "531468ca-b02b-47bf-841c-4864dd0e297b",
     "showTitle": false,
     "title": ""
    }
   },
   "outputs": [],
   "source": [
    "# Split the data into training and test sets (30% held out for testing)\n",
    "\n",
    "(trainingData, testData) = ml_ready_df.randomSplit([0.7, 0.3])"
   ]
  },
  {
   "cell_type": "code",
   "execution_count": 24,
   "metadata": {
    "application/vnd.databricks.v1+cell": {
     "inputWidgets": {},
     "nuid": "81856e00-67c7-496f-9e2f-8d337697ce66",
     "showTitle": false,
     "title": ""
    }
   },
   "outputs": [
    {
     "name": "stdout",
     "output_type": "stream",
     "text": [
      "+------------------+--------------------+\n",
      "|             label|            features|\n",
      "+------------------+--------------------+\n",
      "|10.486485368440269|[0.0,23002.166699...|\n",
      "|10.486485368440269|[0.0,23002.166699...|\n",
      "+------------------+--------------------+\n",
      "only showing top 2 rows\n",
      "\n"
     ]
    }
   ],
   "source": [
    "trainingData.show(2)"
   ]
  },
  {
   "cell_type": "code",
   "execution_count": 25,
   "metadata": {},
   "outputs": [
    {
     "data": {
      "text/plain": [
       "87469"
      ]
     },
     "execution_count": 25,
     "metadata": {},
     "output_type": "execute_result"
    }
   ],
   "source": [
    "trainingData.count()"
   ]
  },
  {
   "cell_type": "code",
   "execution_count": 26,
   "metadata": {},
   "outputs": [
    {
     "data": {
      "text/plain": [
       "37230"
      ]
     },
     "execution_count": 26,
     "metadata": {},
     "output_type": "execute_result"
    }
   ],
   "source": [
    "testData.count()"
   ]
  },
  {
   "cell_type": "markdown",
   "metadata": {
    "application/vnd.databricks.v1+cell": {
     "inputWidgets": {},
     "nuid": "255a7854-1104-4fd1-8d40-81aa207d526a",
     "showTitle": false,
     "title": ""
    }
   },
   "source": [
    "### Random Forest"
   ]
  },
  {
   "cell_type": "code",
   "execution_count": 27,
   "metadata": {
    "application/vnd.databricks.v1+cell": {
     "inputWidgets": {},
     "nuid": "70455d9a-4aa1-4837-8111-dbe9be2ec227",
     "showTitle": false,
     "title": ""
    }
   },
   "outputs": [],
   "source": [
    "from pyspark.ml.regression import RandomForestRegressor\n",
    "\n",
    "# Initialize model with columns to utilize\n",
    "rf = RandomForestRegressor(featuresCol=\"features\",labelCol=\"label\", seed=42)"
   ]
  },
  {
   "cell_type": "markdown",
   "metadata": {
    "application/vnd.databricks.v1+cell": {
     "inputWidgets": {},
     "nuid": "5d2e5bc6-5d09-42a1-971a-81a57b2afdb3",
     "showTitle": false,
     "title": ""
    }
   },
   "source": [
    "#### Training Random Forest Model"
   ]
  },
  {
   "cell_type": "code",
   "execution_count": 28,
   "metadata": {
    "application/vnd.databricks.v1+cell": {
     "inputWidgets": {},
     "nuid": "9163024b-43ef-4e6f-b725-ac9835a16f20",
     "showTitle": false,
     "title": ""
    }
   },
   "outputs": [
    {
     "name": "stdout",
     "output_type": "stream",
     "text": [
      "Time taken to train using Random Forest: 4.07 seconds\n"
     ]
    }
   ],
   "source": [
    "# Train model\n",
    "start = time.time()\n",
    "rf_model = rf.fit(trainingData)\n",
    "stop = time.time()\n",
    "print(\"Time taken to train using Random Forest:\", round((stop-start), 2), 'seconds')"
   ]
  },
  {
   "cell_type": "code",
   "execution_count": 29,
   "metadata": {
    "application/vnd.databricks.v1+cell": {
     "inputWidgets": {},
     "nuid": "f38dd054-9e1e-4e22-9cd0-c9efe0a564a1",
     "showTitle": false,
     "title": ""
    }
   },
   "outputs": [
    {
     "data": {
      "text/plain": [
       "RandomForestRegressionModel: uid=RandomForestRegressor_dcc2ced67a96, numTrees=20, numFeatures=19"
      ]
     },
     "execution_count": 29,
     "metadata": {},
     "output_type": "execute_result"
    }
   ],
   "source": [
    "rf_model"
   ]
  },
  {
   "cell_type": "markdown",
   "metadata": {
    "application/vnd.databricks.v1+cell": {
     "inputWidgets": {},
     "nuid": "4685410d-d829-4587-8242-9a961acb55c7",
     "showTitle": false,
     "title": ""
    }
   },
   "source": [
    "#### Making Predictions:"
   ]
  },
  {
   "cell_type": "code",
   "execution_count": 30,
   "metadata": {
    "application/vnd.databricks.v1+cell": {
     "inputWidgets": {},
     "nuid": "e69bf5ea-3eda-41a1-b8e2-f17656bc9d9f",
     "showTitle": false,
     "title": ""
    }
   },
   "outputs": [],
   "source": [
    "# Make predictions\n",
    "predictions = rf_model.transform(testData)"
   ]
  },
  {
   "cell_type": "code",
   "execution_count": 31,
   "metadata": {
    "application/vnd.databricks.v1+cell": {
     "inputWidgets": {},
     "nuid": "85165253-a29c-4c5e-9c41-9565c9452df1",
     "showTitle": false,
     "title": ""
    }
   },
   "outputs": [
    {
     "data": {
      "text/plain": [
       "DataFrame[label: double, features: vector, prediction: double]"
      ]
     },
     "execution_count": 31,
     "metadata": {},
     "output_type": "execute_result"
    }
   ],
   "source": [
    "predictions"
   ]
  },
  {
   "cell_type": "code",
   "execution_count": 32,
   "metadata": {
    "application/vnd.databricks.v1+cell": {
     "inputWidgets": {},
     "nuid": "b9573160-31ce-460a-974b-3b4564d500d0",
     "showTitle": false,
     "title": ""
    }
   },
   "outputs": [
    {
     "name": "stdout",
     "output_type": "stream",
     "text": [
      "+------------------+------------------+\n",
      "|        Prediction|             Label|\n",
      "+------------------+------------------+\n",
      "|10.479202551321368|10.486485368440269|\n",
      "|10.478525519098973|10.486485368440269|\n",
      "| 10.51202413145482|10.486485368440269|\n",
      "| 10.48658704770523|10.486485368440269|\n",
      "|10.480287364830394|10.486485368440269|\n",
      "+------------------+------------------+\n",
      "only showing top 5 rows\n",
      "\n"
     ]
    }
   ],
   "source": [
    "# Inspect results\n",
    "predictions.select(\"Prediction\",\"Label\").show(5)"
   ]
  },
  {
   "cell_type": "markdown",
   "metadata": {
    "application/vnd.databricks.v1+cell": {
     "inputWidgets": {},
     "nuid": "b90747bb-5eb7-473d-aaa4-28aedd021966",
     "showTitle": false,
     "title": ""
    }
   },
   "source": [
    "#### Hyperparameter Tuning"
   ]
  },
  {
   "cell_type": "code",
   "execution_count": 33,
   "metadata": {
    "application/vnd.databricks.v1+cell": {
     "inputWidgets": {},
     "nuid": "ffe81868-8fb4-4eab-a4e3-d0cab00683b8",
     "showTitle": false,
     "title": ""
    }
   },
   "outputs": [],
   "source": [
    "# Initialize model with columns to utilize\n",
    "rf = RandomForestRegressor(featuresCol=\"features\",labelCol=\"label\", seed=42)"
   ]
  },
  {
   "cell_type": "code",
   "execution_count": 34,
   "metadata": {
    "application/vnd.databricks.v1+cell": {
     "inputWidgets": {},
     "nuid": "bdd46b0f-cf6b-4e1a-a137-63f70ce18d64",
     "showTitle": false,
     "title": ""
    }
   },
   "outputs": [],
   "source": [
    "from pyspark.ml import Pipeline\n",
    "from pyspark.ml.evaluation import RegressionEvaluator\n",
    "\n",
    "pipeline = Pipeline(stages=[rf])"
   ]
  },
  {
   "cell_type": "code",
   "execution_count": 35,
   "metadata": {
    "application/vnd.databricks.v1+cell": {
     "inputWidgets": {},
     "nuid": "c4a28719-bb4f-4f9e-8719-0b807ac7add0",
     "showTitle": false,
     "title": ""
    }
   },
   "outputs": [],
   "source": [
    "# Create ParamGrid for Cross Validation\n",
    "from pyspark.ml.tuning import ParamGridBuilder, CrossValidator, TrainValidationSplit\n",
    "\n",
    "# paramGrid = ParamGridBuilder() \\\n",
    "#     .addGrid(rf.numTrees, [int(x) for x in np.linspace(start = 10, stop = 50, num = 3)]) \\\n",
    "#     .addGrid(rf.maxDepth, [int(x) for x in np.linspace(start = 5, stop = 25, num = 3)]) \\\n",
    "#     .build()\n",
    "\n",
    "paramGrid = ParamGridBuilder() \\\n",
    "            .addGrid(rf.maxDepth, [2, 5, 10]) \\\n",
    "            .addGrid(rf.maxBins, [5, 10, 20]) \\\n",
    "            .addGrid(rf.numTrees, [5, 20, 50]) \\\n",
    "            .build()"
   ]
  },
  {
   "cell_type": "markdown",
   "metadata": {
    "application/vnd.databricks.v1+cell": {
     "inputWidgets": {},
     "nuid": "5c7933b6-d26c-41da-b536-25818678c96c",
     "showTitle": false,
     "title": ""
    }
   },
   "source": [
    "#### Cross Validation:"
   ]
  },
  {
   "cell_type": "code",
   "execution_count": 36,
   "metadata": {
    "application/vnd.databricks.v1+cell": {
     "inputWidgets": {},
     "nuid": "b0c0120a-b092-4852-be38-658184c848de",
     "showTitle": false,
     "title": ""
    }
   },
   "outputs": [],
   "source": [
    "# Create 5-fold CrossValidator\n",
    "cv = CrossValidator(estimator=pipeline, \n",
    "                    estimatorParamMaps=paramGrid, \n",
    "                    evaluator=RegressionEvaluator(), \n",
    "                    numFolds=5)"
   ]
  },
  {
   "cell_type": "code",
   "execution_count": 37,
   "metadata": {
    "application/vnd.databricks.v1+cell": {
     "inputWidgets": {},
     "nuid": "d90a22ac-3dc7-4200-a61c-639c6907061b",
     "showTitle": false,
     "title": ""
    }
   },
   "outputs": [
    {
     "name": "stdout",
     "output_type": "stream",
     "text": [
      "Time taken for Cross Validation Search: 304.14 seconds\n"
     ]
    }
   ],
   "source": [
    "start = time.time()\n",
    "cvModel = cv.fit(trainingData)\n",
    "stop = time.time()\n",
    "\n",
    "print(\"Time taken for Cross Validation Search:\", round((stop-start), 2), 'seconds')"
   ]
  },
  {
   "cell_type": "code",
   "execution_count": 38,
   "metadata": {
    "application/vnd.databricks.v1+cell": {
     "inputWidgets": {},
     "nuid": "1dafbc7b-a441-4129-b602-02ef8f3b74e2",
     "showTitle": false,
     "title": ""
    }
   },
   "outputs": [
    {
     "name": "stdout",
     "output_type": "stream",
     "text": [
      "Time taken for Cross Validation Search: 201.1 seconds\n"
     ]
    }
   ],
   "source": [
    "start = time.time()\n",
    "cvModel = cv.fit(testData)\n",
    "stop = time.time()\n",
    "\n",
    "print(\"Time taken for Cross Validation Search:\", round((stop-start), 2), 'seconds')"
   ]
  },
  {
   "cell_type": "markdown",
   "metadata": {
    "application/vnd.databricks.v1+cell": {
     "inputWidgets": {},
     "nuid": "78ec7c13-5b47-4041-8b63-3ebf048852a9",
     "showTitle": false,
     "title": ""
    }
   },
   "source": [
    "#### Train Validation:"
   ]
  },
  {
   "cell_type": "code",
   "execution_count": 39,
   "metadata": {
    "application/vnd.databricks.v1+cell": {
     "inputWidgets": {},
     "nuid": "b561ba41-c539-4d71-a2aa-f3adb2359082",
     "showTitle": false,
     "title": ""
    }
   },
   "outputs": [],
   "source": [
    "tvs = TrainValidationSplit(estimator=pipeline,\n",
    "                           estimatorParamMaps=paramGrid,\n",
    "                           evaluator=RegressionEvaluator(),\n",
    "                           # 80% of the data will be used for training, 20% for validation.\n",
    "                           trainRatio=0.8)"
   ]
  },
  {
   "cell_type": "code",
   "execution_count": 40,
   "metadata": {
    "application/vnd.databricks.v1+cell": {
     "inputWidgets": {},
     "nuid": "4b92aaa0-deb7-4948-b5a5-134714689e4b",
     "showTitle": false,
     "title": ""
    }
   },
   "outputs": [
    {
     "name": "stdout",
     "output_type": "stream",
     "text": [
      "Time taken for Train Validation Split: 66.05 seconds\n"
     ]
    }
   ],
   "source": [
    "start = time.time()\n",
    "tvs_model = tvs.fit(trainingData)\n",
    "stop = time.time()\n",
    "\n",
    "print(\"Time taken for Train Validation Split:\", round((stop-start), 2), 'seconds')"
   ]
  },
  {
   "cell_type": "code",
   "execution_count": 41,
   "metadata": {
    "application/vnd.databricks.v1+cell": {
     "inputWidgets": {},
     "nuid": "6e954983-fd72-49b8-9bc8-e3b88c242147",
     "showTitle": false,
     "title": ""
    }
   },
   "outputs": [
    {
     "name": "stdout",
     "output_type": "stream",
     "text": [
      "Time taken for Train Validation Split: 45.04 seconds\n"
     ]
    }
   ],
   "source": [
    "start = time.time()\n",
    "tvs_model = tvs.fit(testData)\n",
    "stop = time.time()\n",
    "\n",
    "print(\"Time taken for Train Validation Split:\", round((stop-start), 2), 'seconds')"
   ]
  },
  {
   "cell_type": "markdown",
   "metadata": {
    "application/vnd.databricks.v1+cell": {
     "inputWidgets": {},
     "nuid": "6229a8af-28c1-421f-a52c-0edeb7d88b22",
     "showTitle": false,
     "title": ""
    }
   },
   "source": [
    "### Gradient Boost"
   ]
  },
  {
   "cell_type": "markdown",
   "metadata": {
    "application/vnd.databricks.v1+cell": {
     "inputWidgets": {},
     "nuid": "89abc3e7-a50c-4a40-b3e5-920f6c32e0b0",
     "showTitle": false,
     "title": ""
    }
   },
   "source": [
    "#### Defining the GB Model:"
   ]
  },
  {
   "cell_type": "code",
   "execution_count": 42,
   "metadata": {
    "application/vnd.databricks.v1+cell": {
     "inputWidgets": {},
     "nuid": "6199c563-85b4-48c8-9e5c-1872ac31d3b4",
     "showTitle": false,
     "title": ""
    }
   },
   "outputs": [],
   "source": [
    "# GBM Model\n",
    "from pyspark.ml.regression import GBTRegressor\n",
    "\n",
    "# Initialize model with columns to utilize\n",
    "gbt = GBTRegressor(featuresCol=\"features\",labelCol=\"label\",seed=42)"
   ]
  },
  {
   "cell_type": "markdown",
   "metadata": {
    "application/vnd.databricks.v1+cell": {
     "inputWidgets": {},
     "nuid": "3443b21b-7809-4b8a-b8a3-34b005a37db5",
     "showTitle": false,
     "title": ""
    }
   },
   "source": [
    "#### Training the GBT Model:"
   ]
  },
  {
   "cell_type": "code",
   "execution_count": 43,
   "metadata": {
    "application/vnd.databricks.v1+cell": {
     "inputWidgets": {},
     "nuid": "4b14685f-1bf9-436a-8682-8da4b1b8cccc",
     "showTitle": false,
     "title": ""
    }
   },
   "outputs": [
    {
     "name": "stdout",
     "output_type": "stream",
     "text": [
      "Time taken to train using a Gradient Boosted Model: 6.97 seconds\n"
     ]
    }
   ],
   "source": [
    "# Train model\n",
    "start = time.time()\n",
    "gb_model = gbt.fit(trainingData)\n",
    "stop = time.time()\n",
    "print(\"Time taken to train using a Gradient Boosted Model:\", round((stop-start), 2), \"seconds\")"
   ]
  },
  {
   "cell_type": "markdown",
   "metadata": {
    "application/vnd.databricks.v1+cell": {
     "inputWidgets": {},
     "nuid": "a724c89b-7205-4e20-8a6a-a61cc27f988f",
     "showTitle": false,
     "title": ""
    }
   },
   "source": [
    "#### Making Predictions:"
   ]
  },
  {
   "cell_type": "code",
   "execution_count": 44,
   "metadata": {
    "application/vnd.databricks.v1+cell": {
     "inputWidgets": {},
     "nuid": "2a4bc6ea-d4f6-42d7-aac3-1777b1c7629f",
     "showTitle": false,
     "title": ""
    }
   },
   "outputs": [],
   "source": [
    "# Make predictions\n",
    "predictions = gb_model.transform(testData)"
   ]
  },
  {
   "cell_type": "code",
   "execution_count": 45,
   "metadata": {
    "application/vnd.databricks.v1+cell": {
     "inputWidgets": {},
     "nuid": "5e2d570c-9e23-40fa-a60b-5da5ebb58306",
     "showTitle": false,
     "title": ""
    }
   },
   "outputs": [
    {
     "name": "stdout",
     "output_type": "stream",
     "text": [
      "+------------------+------------------+\n",
      "|        Prediction|             Label|\n",
      "+------------------+------------------+\n",
      "|10.483321677179367|10.486485368440269|\n",
      "|10.485339774715243|10.486485368440269|\n",
      "|10.495968124008572|10.486485368440269|\n",
      "|10.483753714475059|10.486485368440269|\n",
      "|10.489408559529725|10.486485368440269|\n",
      "+------------------+------------------+\n",
      "only showing top 5 rows\n",
      "\n"
     ]
    }
   ],
   "source": [
    "# Inspect results\n",
    "predictions.select(\"Prediction\",\"Label\").show(5)"
   ]
  },
  {
   "cell_type": "markdown",
   "metadata": {
    "application/vnd.databricks.v1+cell": {
     "inputWidgets": {},
     "nuid": "99573875-d4ed-4d29-ac59-2e4ac2a2a290",
     "showTitle": false,
     "title": ""
    }
   },
   "source": [
    "#### Hyperparameter Tuning:"
   ]
  },
  {
   "cell_type": "code",
   "execution_count": 46,
   "metadata": {
    "application/vnd.databricks.v1+cell": {
     "inputWidgets": {},
     "nuid": "82469937-8801-452b-bc17-4b1d7d6e7714",
     "showTitle": false,
     "title": ""
    }
   },
   "outputs": [],
   "source": [
    "pipeline = Pipeline(stages=[gbt])"
   ]
  },
  {
   "cell_type": "code",
   "execution_count": 47,
   "metadata": {
    "application/vnd.databricks.v1+cell": {
     "inputWidgets": {},
     "nuid": "6659aa8d-da7c-40d5-b79b-8b8d05a4ad68",
     "showTitle": false,
     "title": ""
    }
   },
   "outputs": [],
   "source": [
    "paramGrid = ParamGridBuilder()\\\n",
    "    .addGrid(gbt.maxDepth, [2, 5])\\\n",
    "    .addGrid(gbt.maxIter, [10, 100])\\\n",
    "    .addGrid(rf.numTrees, [5, 20, 50]) \\\n",
    "    .build()"
   ]
  },
  {
   "cell_type": "markdown",
   "metadata": {
    "application/vnd.databricks.v1+cell": {
     "inputWidgets": {},
     "nuid": "8bd0dd7d-ddbe-4675-a920-61d4bf468ca8",
     "showTitle": false,
     "title": ""
    }
   },
   "source": [
    "#### Cross Validation:"
   ]
  },
  {
   "cell_type": "code",
   "execution_count": 48,
   "metadata": {
    "application/vnd.databricks.v1+cell": {
     "inputWidgets": {},
     "nuid": "c6a9411e-5767-4d5f-b752-c5996b8df39b",
     "showTitle": false,
     "title": ""
    }
   },
   "outputs": [],
   "source": [
    "# Create 5-fold CrossValidator\n",
    "cv = CrossValidator(estimator=pipeline, \n",
    "                    estimatorParamMaps=paramGrid, \n",
    "                    evaluator=RegressionEvaluator(), \n",
    "                    numFolds=5)"
   ]
  },
  {
   "cell_type": "code",
   "execution_count": 49,
   "metadata": {
    "application/vnd.databricks.v1+cell": {
     "inputWidgets": {},
     "nuid": "f9f47a93-0c7a-4de4-8097-9e336ee68587",
     "showTitle": false,
     "title": ""
    }
   },
   "outputs": [
    {
     "name": "stdout",
     "output_type": "stream",
     "text": [
      "Time taken for Cross Validation Search: 753.39 seconds\n"
     ]
    }
   ],
   "source": [
    "start = time.time()\n",
    "cvModel = cv.fit(trainingData)\n",
    "stop = time.time()\n",
    "\n",
    "print(\"Time taken for Cross Validation Search:\", round((stop-start), 2), 'seconds')"
   ]
  },
  {
   "cell_type": "code",
   "execution_count": 50,
   "metadata": {},
   "outputs": [
    {
     "name": "stdout",
     "output_type": "stream",
     "text": [
      "Time taken for Cross Validation Search: 713.97 seconds\n"
     ]
    }
   ],
   "source": [
    "start = time.time()\n",
    "cvModel = cv.fit(testData)\n",
    "stop = time.time()\n",
    "\n",
    "print(\"Time taken for Cross Validation Search:\", round((stop-start), 2), 'seconds')"
   ]
  },
  {
   "cell_type": "markdown",
   "metadata": {
    "application/vnd.databricks.v1+cell": {
     "inputWidgets": {},
     "nuid": "069717f0-9499-4852-a081-91e2e6632a40",
     "showTitle": false,
     "title": ""
    }
   },
   "source": [
    "#### Train Validation:"
   ]
  },
  {
   "cell_type": "code",
   "execution_count": 51,
   "metadata": {
    "application/vnd.databricks.v1+cell": {
     "inputWidgets": {},
     "nuid": "b561ba41-c539-4d71-a2aa-f3adb2359082",
     "showTitle": false,
     "title": ""
    }
   },
   "outputs": [],
   "source": [
    "tvs = TrainValidationSplit(estimator=pipeline,\n",
    "                           estimatorParamMaps=paramGrid,\n",
    "                           evaluator=RegressionEvaluator(),\n",
    "                           # 80% of the data will be used for training, 20% for validation.\n",
    "                           trainRatio=0.8)"
   ]
  },
  {
   "cell_type": "code",
   "execution_count": 52,
   "metadata": {
    "application/vnd.databricks.v1+cell": {
     "inputWidgets": {},
     "nuid": "58ea29b6-98de-46d8-915b-34bf862a205c",
     "showTitle": false,
     "title": ""
    }
   },
   "outputs": [
    {
     "name": "stdout",
     "output_type": "stream",
     "text": [
      "Time taken for Train Validation Split: 211.63 seconds\n"
     ]
    }
   ],
   "source": [
    "start = time.time()\n",
    "tvs_model = tvs.fit(trainingData)\n",
    "stop = time.time()\n",
    "\n",
    "print(\"Time taken for Train Validation Split:\", round((stop-start), 2), 'seconds')"
   ]
  },
  {
   "cell_type": "code",
   "execution_count": 53,
   "metadata": {},
   "outputs": [
    {
     "name": "stdout",
     "output_type": "stream",
     "text": [
      "Time taken for Train Validation Split: 165.95 seconds\n"
     ]
    }
   ],
   "source": [
    "start = time.time()\n",
    "tvs_model = tvs.fit(testData)\n",
    "stop = time.time()\n",
    "\n",
    "print(\"Time taken for Train Validation Split:\", round((stop-start), 2), 'seconds')"
   ]
  }
 ],
 "metadata": {
  "application/vnd.databricks.v1+notebook": {
   "dashboards": [],
   "language": "python",
   "notebookName": "pyspark_libraries",
   "notebookOrigID": 4242713657847589,
   "widgets": {}
  },
  "kernelspec": {
   "display_name": "Python 3",
   "language": "python",
   "name": "python3"
  },
  "language_info": {
   "codemirror_mode": {
    "name": "ipython",
    "version": 3
   },
   "file_extension": ".py",
   "mimetype": "text/x-python",
   "name": "python",
   "nbconvert_exporter": "python",
   "pygments_lexer": "ipython3",
   "version": "3.7.6"
  }
 },
 "nbformat": 4,
 "nbformat_minor": 1
}
