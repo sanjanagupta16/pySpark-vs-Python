{
 "cells": [
  {
   "cell_type": "markdown",
   "metadata": {},
   "source": [
    "## Importing libraries"
   ]
  },
  {
   "cell_type": "code",
   "execution_count": 1,
   "metadata": {},
   "outputs": [],
   "source": [
    "import pandas as pd\n",
    "import numpy as np\n",
    "import sqlite3 \n",
    "import math\n",
    "import matplotlib.pyplot as plt\n",
    "import sklearn\n",
    "import scipy.stats as stats\n",
    "import seaborn as sns\n",
    "from sklearn import preprocessing\n",
    "from sklearn.metrics import r2_score\n",
    "import copy\n",
    "import warnings\n",
    "import time\n",
    "warnings.filterwarnings('ignore')"
   ]
  },
  {
   "cell_type": "markdown",
   "metadata": {},
   "source": [
    "## Data load"
   ]
  },
  {
   "cell_type": "code",
   "execution_count": 53,
   "metadata": {},
   "outputs": [
    {
     "name": "stdout",
     "output_type": "stream",
     "text": [
      "Time taken to read data: 47.54 seconds\n"
     ]
    }
   ],
   "source": [
    "start = time.time()\n",
    "data = pd.read_csv('data/Scorecard.csv', low_memory=False, na_values='PrivacySuppressed')\n",
    "stop = time.time()\n",
    "print('Time taken to read data:',round((stop-start),2),'seconds')"
   ]
  },
  {
   "cell_type": "code",
   "execution_count": 3,
   "metadata": {},
   "outputs": [
    {
     "name": "stdout",
     "output_type": "stream",
     "text": [
      "<class 'pandas.core.frame.DataFrame'>\n",
      "RangeIndex: 124699 entries, 0 to 124698\n",
      "Columns: 1731 entries, Id to Year\n",
      "dtypes: float64(1692), int64(6), object(33)\n",
      "memory usage: 1.6+ GB\n"
     ]
    }
   ],
   "source": [
    "data.info()"
   ]
  },
  {
   "cell_type": "code",
   "execution_count": 4,
   "metadata": {},
   "outputs": [
    {
     "data": {
      "text/html": [
       "<div>\n",
       "<style scoped>\n",
       "    .dataframe tbody tr th:only-of-type {\n",
       "        vertical-align: middle;\n",
       "    }\n",
       "\n",
       "    .dataframe tbody tr th {\n",
       "        vertical-align: top;\n",
       "    }\n",
       "\n",
       "    .dataframe thead th {\n",
       "        text-align: right;\n",
       "    }\n",
       "</style>\n",
       "<table border=\"1\" class=\"dataframe\">\n",
       "  <thead>\n",
       "    <tr style=\"text-align: right;\">\n",
       "      <th></th>\n",
       "      <th>Id</th>\n",
       "      <th>UNITID</th>\n",
       "      <th>OPEID</th>\n",
       "      <th>opeid6</th>\n",
       "      <th>INSTNM</th>\n",
       "      <th>CITY</th>\n",
       "      <th>STABBR</th>\n",
       "      <th>ZIP</th>\n",
       "      <th>AccredAgency</th>\n",
       "      <th>INSTURL</th>\n",
       "      <th>...</th>\n",
       "      <th>NOPELL_RPY_3YR_RT_SUPP</th>\n",
       "      <th>FEMALE_RPY_3YR_RT_SUPP</th>\n",
       "      <th>MALE_RPY_3YR_RT_SUPP</th>\n",
       "      <th>FIRSTGEN_RPY_3YR_RT_SUPP</th>\n",
       "      <th>NOTFIRSTGEN_RPY_3YR_RT_SUPP</th>\n",
       "      <th>C150_L4_POOLED_SUPP</th>\n",
       "      <th>C150_4_POOLED_SUPP</th>\n",
       "      <th>C200_L4_POOLED_SUPP</th>\n",
       "      <th>C200_4_POOLED_SUPP</th>\n",
       "      <th>Year</th>\n",
       "    </tr>\n",
       "  </thead>\n",
       "  <tbody>\n",
       "    <tr>\n",
       "      <th>0</th>\n",
       "      <td>1</td>\n",
       "      <td>100636</td>\n",
       "      <td>01230800</td>\n",
       "      <td>12308</td>\n",
       "      <td>COMMUNITY COLLEGE OF THE AIR FORCE</td>\n",
       "      <td>MONTGOMERY</td>\n",
       "      <td>AL</td>\n",
       "      <td>361126613</td>\n",
       "      <td>NaN</td>\n",
       "      <td>NaN</td>\n",
       "      <td>...</td>\n",
       "      <td>NaN</td>\n",
       "      <td>NaN</td>\n",
       "      <td>NaN</td>\n",
       "      <td>NaN</td>\n",
       "      <td>NaN</td>\n",
       "      <td>NaN</td>\n",
       "      <td>NaN</td>\n",
       "      <td>NaN</td>\n",
       "      <td>NaN</td>\n",
       "      <td>1996</td>\n",
       "    </tr>\n",
       "    <tr>\n",
       "      <th>1</th>\n",
       "      <td>2</td>\n",
       "      <td>100654</td>\n",
       "      <td>00100200</td>\n",
       "      <td>1002</td>\n",
       "      <td>ALABAMA A &amp; M UNIVERSITY</td>\n",
       "      <td>NORMAL</td>\n",
       "      <td>AL</td>\n",
       "      <td>35762</td>\n",
       "      <td>NaN</td>\n",
       "      <td>NaN</td>\n",
       "      <td>...</td>\n",
       "      <td>NaN</td>\n",
       "      <td>NaN</td>\n",
       "      <td>NaN</td>\n",
       "      <td>NaN</td>\n",
       "      <td>NaN</td>\n",
       "      <td>NaN</td>\n",
       "      <td>NaN</td>\n",
       "      <td>NaN</td>\n",
       "      <td>NaN</td>\n",
       "      <td>1996</td>\n",
       "    </tr>\n",
       "    <tr>\n",
       "      <th>2</th>\n",
       "      <td>3</td>\n",
       "      <td>100663</td>\n",
       "      <td>00105200</td>\n",
       "      <td>1052</td>\n",
       "      <td>UNIVERSITY OF ALABAMA AT BIRMINGHAM</td>\n",
       "      <td>BIRMINGHAM</td>\n",
       "      <td>AL</td>\n",
       "      <td>352940110</td>\n",
       "      <td>NaN</td>\n",
       "      <td>NaN</td>\n",
       "      <td>...</td>\n",
       "      <td>NaN</td>\n",
       "      <td>NaN</td>\n",
       "      <td>NaN</td>\n",
       "      <td>NaN</td>\n",
       "      <td>NaN</td>\n",
       "      <td>NaN</td>\n",
       "      <td>NaN</td>\n",
       "      <td>NaN</td>\n",
       "      <td>NaN</td>\n",
       "      <td>1996</td>\n",
       "    </tr>\n",
       "    <tr>\n",
       "      <th>3</th>\n",
       "      <td>4</td>\n",
       "      <td>100672</td>\n",
       "      <td>00574900</td>\n",
       "      <td>5749</td>\n",
       "      <td>ALABAMA AVIATION AND TECHNICAL COLLEGE</td>\n",
       "      <td>OZARK</td>\n",
       "      <td>AL</td>\n",
       "      <td>36360</td>\n",
       "      <td>NaN</td>\n",
       "      <td>NaN</td>\n",
       "      <td>...</td>\n",
       "      <td>NaN</td>\n",
       "      <td>NaN</td>\n",
       "      <td>NaN</td>\n",
       "      <td>NaN</td>\n",
       "      <td>NaN</td>\n",
       "      <td>NaN</td>\n",
       "      <td>NaN</td>\n",
       "      <td>NaN</td>\n",
       "      <td>NaN</td>\n",
       "      <td>1996</td>\n",
       "    </tr>\n",
       "    <tr>\n",
       "      <th>4</th>\n",
       "      <td>5</td>\n",
       "      <td>100690</td>\n",
       "      <td>02503400</td>\n",
       "      <td>25034</td>\n",
       "      <td>SOUTHERN CHRISTIAN UNIVERSITY</td>\n",
       "      <td>MONTGOMERY</td>\n",
       "      <td>AL</td>\n",
       "      <td>361173553</td>\n",
       "      <td>NaN</td>\n",
       "      <td>NaN</td>\n",
       "      <td>...</td>\n",
       "      <td>NaN</td>\n",
       "      <td>NaN</td>\n",
       "      <td>NaN</td>\n",
       "      <td>NaN</td>\n",
       "      <td>NaN</td>\n",
       "      <td>NaN</td>\n",
       "      <td>NaN</td>\n",
       "      <td>NaN</td>\n",
       "      <td>NaN</td>\n",
       "      <td>1996</td>\n",
       "    </tr>\n",
       "  </tbody>\n",
       "</table>\n",
       "<p>5 rows × 1731 columns</p>\n",
       "</div>"
      ],
      "text/plain": [
       "   Id  UNITID     OPEID  opeid6                                  INSTNM  \\\n",
       "0   1  100636  01230800   12308      COMMUNITY COLLEGE OF THE AIR FORCE   \n",
       "1   2  100654  00100200    1002                ALABAMA A & M UNIVERSITY   \n",
       "2   3  100663  00105200    1052     UNIVERSITY OF ALABAMA AT BIRMINGHAM   \n",
       "3   4  100672  00574900    5749  ALABAMA AVIATION AND TECHNICAL COLLEGE   \n",
       "4   5  100690  02503400   25034           SOUTHERN CHRISTIAN UNIVERSITY   \n",
       "\n",
       "         CITY STABBR        ZIP AccredAgency INSTURL  ...  \\\n",
       "0  MONTGOMERY     AL  361126613          NaN     NaN  ...   \n",
       "1      NORMAL     AL      35762          NaN     NaN  ...   \n",
       "2  BIRMINGHAM     AL  352940110          NaN     NaN  ...   \n",
       "3       OZARK     AL      36360          NaN     NaN  ...   \n",
       "4  MONTGOMERY     AL  361173553          NaN     NaN  ...   \n",
       "\n",
       "  NOPELL_RPY_3YR_RT_SUPP  FEMALE_RPY_3YR_RT_SUPP  MALE_RPY_3YR_RT_SUPP  \\\n",
       "0                    NaN                     NaN                   NaN   \n",
       "1                    NaN                     NaN                   NaN   \n",
       "2                    NaN                     NaN                   NaN   \n",
       "3                    NaN                     NaN                   NaN   \n",
       "4                    NaN                     NaN                   NaN   \n",
       "\n",
       "  FIRSTGEN_RPY_3YR_RT_SUPP  NOTFIRSTGEN_RPY_3YR_RT_SUPP C150_L4_POOLED_SUPP  \\\n",
       "0                      NaN                          NaN                 NaN   \n",
       "1                      NaN                          NaN                 NaN   \n",
       "2                      NaN                          NaN                 NaN   \n",
       "3                      NaN                          NaN                 NaN   \n",
       "4                      NaN                          NaN                 NaN   \n",
       "\n",
       "  C150_4_POOLED_SUPP C200_L4_POOLED_SUPP C200_4_POOLED_SUPP  Year  \n",
       "0                NaN                 NaN                NaN  1996  \n",
       "1                NaN                 NaN                NaN  1996  \n",
       "2                NaN                 NaN                NaN  1996  \n",
       "3                NaN                 NaN                NaN  1996  \n",
       "4                NaN                 NaN                NaN  1996  \n",
       "\n",
       "[5 rows x 1731 columns]"
      ]
     },
     "execution_count": 4,
     "metadata": {},
     "output_type": "execute_result"
    }
   ],
   "source": [
    "data.head()"
   ]
  },
  {
   "cell_type": "code",
   "execution_count": 5,
   "metadata": {
    "scrolled": true
   },
   "outputs": [
    {
     "data": {
      "text/plain": [
       "(124699, 1731)"
      ]
     },
     "execution_count": 5,
     "metadata": {},
     "output_type": "execute_result"
    }
   ],
   "source": [
    "data.shape"
   ]
  },
  {
   "cell_type": "markdown",
   "metadata": {},
   "source": [
    "Looking at the distribution of response variable"
   ]
  },
  {
   "cell_type": "code",
   "execution_count": 6,
   "metadata": {},
   "outputs": [
    {
     "data": {
      "text/plain": [
       "42300.0     155\n",
       "22400.0     108\n",
       "33900.0     106\n",
       "56800.0      96\n",
       "29100.0      90\n",
       "           ... \n",
       "105100.0      1\n",
       "78400.0       1\n",
       "113400.0      1\n",
       "89100.0       1\n",
       "106300.0      1\n",
       "Name: mn_earn_wne_p10, Length: 817, dtype: int64"
      ]
     },
     "execution_count": 6,
     "metadata": {},
     "output_type": "execute_result"
    }
   ],
   "source": [
    "data['mn_earn_wne_p10'].value_counts(dropna=True)"
   ]
  },
  {
   "cell_type": "code",
   "execution_count": 7,
   "metadata": {},
   "outputs": [
    {
     "data": {
      "text/plain": [
       "array([[<matplotlib.axes._subplots.AxesSubplot object at 0x7f8a8adfae50>]],\n",
       "      dtype=object)"
      ]
     },
     "execution_count": 7,
     "metadata": {},
     "output_type": "execute_result"
    },
    {
     "data": {
      "image/png": "[encoded data removed]",
      "text/plain": [
       "<Figure size 432x288 with 1 Axes>"
      ]
     },
     "metadata": {
      "needs_background": "light"
     },
     "output_type": "display_data"
    }
   ],
   "source": [
    "# Response Variable\n",
    "data[\"mn_earn_wne_p10\"] = pd.to_numeric(data[\"mn_earn_wne_p10\"], errors='coerce')\n",
    "data.hist(column='mn_earn_wne_p10')"
   ]
  },
  {
   "cell_type": "markdown",
   "metadata": {},
   "source": [
    "The response variable does not look normally distributed. Applying log transformation:"
   ]
  },
  {
   "cell_type": "code",
   "execution_count": 8,
   "metadata": {},
   "outputs": [],
   "source": [
    "data[\"log_mn_earn_wne_p10\"] = np.log(data[\"mn_earn_wne_p10\"])"
   ]
  },
  {
   "cell_type": "code",
   "execution_count": 9,
   "metadata": {},
   "outputs": [
    {
     "data": {
      "text/plain": [
       "array([[<matplotlib.axes._subplots.AxesSubplot object at 0x7f8c43f7f410>]],\n",
       "      dtype=object)"
      ]
     },
     "execution_count": 9,
     "metadata": {},
     "output_type": "execute_result"
    },
    {
     "data": {
      "image/png": "[encoded data removed]",
      "text/plain": [
       "<Figure size 432x288 with 1 Axes>"
      ]
     },
     "metadata": {
      "needs_background": "light"
     },
     "output_type": "display_data"
    }
   ],
   "source": [
    "data.hist(column='log_mn_earn_wne_p10')"
   ]
  },
  {
   "cell_type": "markdown",
   "metadata": {},
   "source": [
    "The data looks more normally distributed now."
   ]
  },
  {
   "cell_type": "code",
   "execution_count": 10,
   "metadata": {},
   "outputs": [
    {
     "data": {
      "text/html": [
       "<div>\n",
       "<style scoped>\n",
       "    .dataframe tbody tr th:only-of-type {\n",
       "        vertical-align: middle;\n",
       "    }\n",
       "\n",
       "    .dataframe tbody tr th {\n",
       "        vertical-align: top;\n",
       "    }\n",
       "\n",
       "    .dataframe thead th {\n",
       "        text-align: right;\n",
       "    }\n",
       "</style>\n",
       "<table border=\"1\" class=\"dataframe\">\n",
       "  <thead>\n",
       "    <tr style=\"text-align: right;\">\n",
       "      <th></th>\n",
       "      <th>Id</th>\n",
       "      <th>UNITID</th>\n",
       "      <th>OPEID</th>\n",
       "      <th>opeid6</th>\n",
       "      <th>INSTNM</th>\n",
       "      <th>CITY</th>\n",
       "      <th>STABBR</th>\n",
       "      <th>ZIP</th>\n",
       "      <th>AccredAgency</th>\n",
       "      <th>INSTURL</th>\n",
       "      <th>...</th>\n",
       "      <th>FEMALE_RPY_3YR_RT_SUPP</th>\n",
       "      <th>MALE_RPY_3YR_RT_SUPP</th>\n",
       "      <th>FIRSTGEN_RPY_3YR_RT_SUPP</th>\n",
       "      <th>NOTFIRSTGEN_RPY_3YR_RT_SUPP</th>\n",
       "      <th>C150_L4_POOLED_SUPP</th>\n",
       "      <th>C150_4_POOLED_SUPP</th>\n",
       "      <th>C200_L4_POOLED_SUPP</th>\n",
       "      <th>C200_4_POOLED_SUPP</th>\n",
       "      <th>Year</th>\n",
       "      <th>log_mn_earn_wne_p10</th>\n",
       "    </tr>\n",
       "  </thead>\n",
       "  <tbody>\n",
       "    <tr>\n",
       "      <th>0</th>\n",
       "      <td>1</td>\n",
       "      <td>100636</td>\n",
       "      <td>01230800</td>\n",
       "      <td>12308</td>\n",
       "      <td>COMMUNITY COLLEGE OF THE AIR FORCE</td>\n",
       "      <td>MONTGOMERY</td>\n",
       "      <td>AL</td>\n",
       "      <td>361126613</td>\n",
       "      <td>NaN</td>\n",
       "      <td>NaN</td>\n",
       "      <td>...</td>\n",
       "      <td>NaN</td>\n",
       "      <td>NaN</td>\n",
       "      <td>NaN</td>\n",
       "      <td>NaN</td>\n",
       "      <td>NaN</td>\n",
       "      <td>NaN</td>\n",
       "      <td>NaN</td>\n",
       "      <td>NaN</td>\n",
       "      <td>1996</td>\n",
       "      <td>NaN</td>\n",
       "    </tr>\n",
       "    <tr>\n",
       "      <th>1</th>\n",
       "      <td>2</td>\n",
       "      <td>100654</td>\n",
       "      <td>00100200</td>\n",
       "      <td>1002</td>\n",
       "      <td>ALABAMA A &amp; M UNIVERSITY</td>\n",
       "      <td>NORMAL</td>\n",
       "      <td>AL</td>\n",
       "      <td>35762</td>\n",
       "      <td>NaN</td>\n",
       "      <td>NaN</td>\n",
       "      <td>...</td>\n",
       "      <td>NaN</td>\n",
       "      <td>NaN</td>\n",
       "      <td>NaN</td>\n",
       "      <td>NaN</td>\n",
       "      <td>NaN</td>\n",
       "      <td>NaN</td>\n",
       "      <td>NaN</td>\n",
       "      <td>NaN</td>\n",
       "      <td>1996</td>\n",
       "      <td>NaN</td>\n",
       "    </tr>\n",
       "    <tr>\n",
       "      <th>2</th>\n",
       "      <td>3</td>\n",
       "      <td>100663</td>\n",
       "      <td>00105200</td>\n",
       "      <td>1052</td>\n",
       "      <td>UNIVERSITY OF ALABAMA AT BIRMINGHAM</td>\n",
       "      <td>BIRMINGHAM</td>\n",
       "      <td>AL</td>\n",
       "      <td>352940110</td>\n",
       "      <td>NaN</td>\n",
       "      <td>NaN</td>\n",
       "      <td>...</td>\n",
       "      <td>NaN</td>\n",
       "      <td>NaN</td>\n",
       "      <td>NaN</td>\n",
       "      <td>NaN</td>\n",
       "      <td>NaN</td>\n",
       "      <td>NaN</td>\n",
       "      <td>NaN</td>\n",
       "      <td>NaN</td>\n",
       "      <td>1996</td>\n",
       "      <td>NaN</td>\n",
       "    </tr>\n",
       "    <tr>\n",
       "      <th>3</th>\n",
       "      <td>4</td>\n",
       "      <td>100672</td>\n",
       "      <td>00574900</td>\n",
       "      <td>5749</td>\n",
       "      <td>ALABAMA AVIATION AND TECHNICAL COLLEGE</td>\n",
       "      <td>OZARK</td>\n",
       "      <td>AL</td>\n",
       "      <td>36360</td>\n",
       "      <td>NaN</td>\n",
       "      <td>NaN</td>\n",
       "      <td>...</td>\n",
       "      <td>NaN</td>\n",
       "      <td>NaN</td>\n",
       "      <td>NaN</td>\n",
       "      <td>NaN</td>\n",
       "      <td>NaN</td>\n",
       "      <td>NaN</td>\n",
       "      <td>NaN</td>\n",
       "      <td>NaN</td>\n",
       "      <td>1996</td>\n",
       "      <td>NaN</td>\n",
       "    </tr>\n",
       "    <tr>\n",
       "      <th>4</th>\n",
       "      <td>5</td>\n",
       "      <td>100690</td>\n",
       "      <td>02503400</td>\n",
       "      <td>25034</td>\n",
       "      <td>SOUTHERN CHRISTIAN UNIVERSITY</td>\n",
       "      <td>MONTGOMERY</td>\n",
       "      <td>AL</td>\n",
       "      <td>361173553</td>\n",
       "      <td>NaN</td>\n",
       "      <td>NaN</td>\n",
       "      <td>...</td>\n",
       "      <td>NaN</td>\n",
       "      <td>NaN</td>\n",
       "      <td>NaN</td>\n",
       "      <td>NaN</td>\n",
       "      <td>NaN</td>\n",
       "      <td>NaN</td>\n",
       "      <td>NaN</td>\n",
       "      <td>NaN</td>\n",
       "      <td>1996</td>\n",
       "      <td>NaN</td>\n",
       "    </tr>\n",
       "  </tbody>\n",
       "</table>\n",
       "<p>5 rows × 1732 columns</p>\n",
       "</div>"
      ],
      "text/plain": [
       "   Id  UNITID     OPEID  opeid6                                  INSTNM  \\\n",
       "0   1  100636  01230800   12308      COMMUNITY COLLEGE OF THE AIR FORCE   \n",
       "1   2  100654  00100200    1002                ALABAMA A & M UNIVERSITY   \n",
       "2   3  100663  00105200    1052     UNIVERSITY OF ALABAMA AT BIRMINGHAM   \n",
       "3   4  100672  00574900    5749  ALABAMA AVIATION AND TECHNICAL COLLEGE   \n",
       "4   5  100690  02503400   25034           SOUTHERN CHRISTIAN UNIVERSITY   \n",
       "\n",
       "         CITY STABBR        ZIP AccredAgency INSTURL  ...  \\\n",
       "0  MONTGOMERY     AL  361126613          NaN     NaN  ...   \n",
       "1      NORMAL     AL      35762          NaN     NaN  ...   \n",
       "2  BIRMINGHAM     AL  352940110          NaN     NaN  ...   \n",
       "3       OZARK     AL      36360          NaN     NaN  ...   \n",
       "4  MONTGOMERY     AL  361173553          NaN     NaN  ...   \n",
       "\n",
       "  FEMALE_RPY_3YR_RT_SUPP  MALE_RPY_3YR_RT_SUPP  FIRSTGEN_RPY_3YR_RT_SUPP  \\\n",
       "0                    NaN                   NaN                       NaN   \n",
       "1                    NaN                   NaN                       NaN   \n",
       "2                    NaN                   NaN                       NaN   \n",
       "3                    NaN                   NaN                       NaN   \n",
       "4                    NaN                   NaN                       NaN   \n",
       "\n",
       "  NOTFIRSTGEN_RPY_3YR_RT_SUPP  C150_L4_POOLED_SUPP C150_4_POOLED_SUPP  \\\n",
       "0                         NaN                  NaN                NaN   \n",
       "1                         NaN                  NaN                NaN   \n",
       "2                         NaN                  NaN                NaN   \n",
       "3                         NaN                  NaN                NaN   \n",
       "4                         NaN                  NaN                NaN   \n",
       "\n",
       "  C200_L4_POOLED_SUPP C200_4_POOLED_SUPP  Year log_mn_earn_wne_p10  \n",
       "0                 NaN                NaN  1996                 NaN  \n",
       "1                 NaN                NaN  1996                 NaN  \n",
       "2                 NaN                NaN  1996                 NaN  \n",
       "3                 NaN                NaN  1996                 NaN  \n",
       "4                 NaN                NaN  1996                 NaN  \n",
       "\n",
       "[5 rows x 1732 columns]"
      ]
     },
     "execution_count": 10,
     "metadata": {},
     "output_type": "execute_result"
    }
   ],
   "source": [
    "df = data\n",
    "df.head()"
   ]
  },
  {
   "cell_type": "markdown",
   "metadata": {},
   "source": [
    "Predictor variables selected:"
   ]
  },
  {
   "cell_type": "code",
   "execution_count": 11,
   "metadata": {},
   "outputs": [],
   "source": [
    "# new dataframe with response + predictor variables only\n",
    "df = data[['log_mn_earn_wne_p10', 'ADM_RATE_ALL', 'COSTT4_A', 'UGDS_BLACK', 'PPTUG_EF', 'UG25abv', \n",
    "           'PAR_ED_PCT_1STGEN', 'PCTFLOAN', 'C150_4', 'TUITIONFEE_OUT', 'TUITIONFEE_IN',\n",
    "          'UGDS_WHITE', 'TUITFTE', 'AVGFACSAL', 'INC_PCT_LO', 'UGDS', 'PCTPELL', 'DEBT_MDN', 'PCTFLOAN', 'INC_PCT_H2']]"
   ]
  },
  {
   "cell_type": "code",
   "execution_count": 12,
   "metadata": {},
   "outputs": [
    {
     "data": {
      "text/html": [
       "<div>\n",
       "<style scoped>\n",
       "    .dataframe tbody tr th:only-of-type {\n",
       "        vertical-align: middle;\n",
       "    }\n",
       "\n",
       "    .dataframe tbody tr th {\n",
       "        vertical-align: top;\n",
       "    }\n",
       "\n",
       "    .dataframe thead th {\n",
       "        text-align: right;\n",
       "    }\n",
       "</style>\n",
       "<table border=\"1\" class=\"dataframe\">\n",
       "  <thead>\n",
       "    <tr style=\"text-align: right;\">\n",
       "      <th></th>\n",
       "      <th>log_mn_earn_wne_p10</th>\n",
       "      <th>ADM_RATE_ALL</th>\n",
       "      <th>COSTT4_A</th>\n",
       "      <th>UGDS_BLACK</th>\n",
       "      <th>PPTUG_EF</th>\n",
       "      <th>UG25abv</th>\n",
       "      <th>PAR_ED_PCT_1STGEN</th>\n",
       "      <th>PCTFLOAN</th>\n",
       "      <th>C150_4</th>\n",
       "      <th>TUITIONFEE_OUT</th>\n",
       "      <th>TUITIONFEE_IN</th>\n",
       "      <th>UGDS_WHITE</th>\n",
       "      <th>TUITFTE</th>\n",
       "      <th>AVGFACSAL</th>\n",
       "      <th>INC_PCT_LO</th>\n",
       "      <th>UGDS</th>\n",
       "      <th>PCTPELL</th>\n",
       "      <th>DEBT_MDN</th>\n",
       "      <th>PCTFLOAN</th>\n",
       "      <th>INC_PCT_H2</th>\n",
       "    </tr>\n",
       "  </thead>\n",
       "  <tbody>\n",
       "    <tr>\n",
       "      <th>0</th>\n",
       "      <td>NaN</td>\n",
       "      <td>NaN</td>\n",
       "      <td>NaN</td>\n",
       "      <td>NaN</td>\n",
       "      <td>0.9752</td>\n",
       "      <td>NaN</td>\n",
       "      <td>NaN</td>\n",
       "      <td>NaN</td>\n",
       "      <td>NaN</td>\n",
       "      <td>NaN</td>\n",
       "      <td>NaN</td>\n",
       "      <td>NaN</td>\n",
       "      <td>NaN</td>\n",
       "      <td>NaN</td>\n",
       "      <td>NaN</td>\n",
       "      <td>44141.0</td>\n",
       "      <td>NaN</td>\n",
       "      <td>NaN</td>\n",
       "      <td>NaN</td>\n",
       "      <td>NaN</td>\n",
       "    </tr>\n",
       "    <tr>\n",
       "      <th>1</th>\n",
       "      <td>NaN</td>\n",
       "      <td>NaN</td>\n",
       "      <td>NaN</td>\n",
       "      <td>NaN</td>\n",
       "      <td>0.0852</td>\n",
       "      <td>NaN</td>\n",
       "      <td>NaN</td>\n",
       "      <td>NaN</td>\n",
       "      <td>NaN</td>\n",
       "      <td>NaN</td>\n",
       "      <td>NaN</td>\n",
       "      <td>NaN</td>\n",
       "      <td>NaN</td>\n",
       "      <td>4072.0</td>\n",
       "      <td>NaN</td>\n",
       "      <td>3852.0</td>\n",
       "      <td>NaN</td>\n",
       "      <td>NaN</td>\n",
       "      <td>NaN</td>\n",
       "      <td>NaN</td>\n",
       "    </tr>\n",
       "    <tr>\n",
       "      <th>2</th>\n",
       "      <td>NaN</td>\n",
       "      <td>NaN</td>\n",
       "      <td>NaN</td>\n",
       "      <td>NaN</td>\n",
       "      <td>0.3455</td>\n",
       "      <td>NaN</td>\n",
       "      <td>NaN</td>\n",
       "      <td>NaN</td>\n",
       "      <td>NaN</td>\n",
       "      <td>NaN</td>\n",
       "      <td>NaN</td>\n",
       "      <td>NaN</td>\n",
       "      <td>NaN</td>\n",
       "      <td>5708.0</td>\n",
       "      <td>NaN</td>\n",
       "      <td>9889.0</td>\n",
       "      <td>NaN</td>\n",
       "      <td>NaN</td>\n",
       "      <td>NaN</td>\n",
       "      <td>NaN</td>\n",
       "    </tr>\n",
       "    <tr>\n",
       "      <th>3</th>\n",
       "      <td>NaN</td>\n",
       "      <td>NaN</td>\n",
       "      <td>NaN</td>\n",
       "      <td>NaN</td>\n",
       "      <td>0.1458</td>\n",
       "      <td>NaN</td>\n",
       "      <td>NaN</td>\n",
       "      <td>NaN</td>\n",
       "      <td>NaN</td>\n",
       "      <td>NaN</td>\n",
       "      <td>NaN</td>\n",
       "      <td>NaN</td>\n",
       "      <td>NaN</td>\n",
       "      <td>4174.0</td>\n",
       "      <td>NaN</td>\n",
       "      <td>295.0</td>\n",
       "      <td>NaN</td>\n",
       "      <td>NaN</td>\n",
       "      <td>NaN</td>\n",
       "      <td>NaN</td>\n",
       "    </tr>\n",
       "    <tr>\n",
       "      <th>4</th>\n",
       "      <td>NaN</td>\n",
       "      <td>NaN</td>\n",
       "      <td>NaN</td>\n",
       "      <td>NaN</td>\n",
       "      <td>0.8667</td>\n",
       "      <td>NaN</td>\n",
       "      <td>NaN</td>\n",
       "      <td>NaN</td>\n",
       "      <td>NaN</td>\n",
       "      <td>NaN</td>\n",
       "      <td>NaN</td>\n",
       "      <td>NaN</td>\n",
       "      <td>NaN</td>\n",
       "      <td>3092.0</td>\n",
       "      <td>NaN</td>\n",
       "      <td>60.0</td>\n",
       "      <td>NaN</td>\n",
       "      <td>NaN</td>\n",
       "      <td>NaN</td>\n",
       "      <td>NaN</td>\n",
       "    </tr>\n",
       "  </tbody>\n",
       "</table>\n",
       "</div>"
      ],
      "text/plain": [
       "   log_mn_earn_wne_p10  ADM_RATE_ALL  COSTT4_A  UGDS_BLACK  PPTUG_EF  UG25abv  \\\n",
       "0                  NaN           NaN       NaN         NaN    0.9752      NaN   \n",
       "1                  NaN           NaN       NaN         NaN    0.0852      NaN   \n",
       "2                  NaN           NaN       NaN         NaN    0.3455      NaN   \n",
       "3                  NaN           NaN       NaN         NaN    0.1458      NaN   \n",
       "4                  NaN           NaN       NaN         NaN    0.8667      NaN   \n",
       "\n",
       "   PAR_ED_PCT_1STGEN  PCTFLOAN  C150_4  TUITIONFEE_OUT  TUITIONFEE_IN  \\\n",
       "0                NaN       NaN     NaN             NaN            NaN   \n",
       "1                NaN       NaN     NaN             NaN            NaN   \n",
       "2                NaN       NaN     NaN             NaN            NaN   \n",
       "3                NaN       NaN     NaN             NaN            NaN   \n",
       "4                NaN       NaN     NaN             NaN            NaN   \n",
       "\n",
       "   UGDS_WHITE  TUITFTE  AVGFACSAL  INC_PCT_LO     UGDS  PCTPELL  DEBT_MDN  \\\n",
       "0         NaN      NaN        NaN         NaN  44141.0      NaN       NaN   \n",
       "1         NaN      NaN     4072.0         NaN   3852.0      NaN       NaN   \n",
       "2         NaN      NaN     5708.0         NaN   9889.0      NaN       NaN   \n",
       "3         NaN      NaN     4174.0         NaN    295.0      NaN       NaN   \n",
       "4         NaN      NaN     3092.0         NaN     60.0      NaN       NaN   \n",
       "\n",
       "   PCTFLOAN  INC_PCT_H2  \n",
       "0       NaN         NaN  \n",
       "1       NaN         NaN  \n",
       "2       NaN         NaN  \n",
       "3       NaN         NaN  \n",
       "4       NaN         NaN  "
      ]
     },
     "execution_count": 12,
     "metadata": {},
     "output_type": "execute_result"
    }
   ],
   "source": [
    "df.head()"
   ]
  },
  {
   "cell_type": "code",
   "execution_count": 13,
   "metadata": {},
   "outputs": [],
   "source": [
    "# Converting data types \n",
    "\n",
    "df['PAR_ED_PCT_1STGEN'] = pd.to_numeric(df[\"PAR_ED_PCT_1STGEN\"], errors='coerce')\n",
    "df['INC_PCT_LO'] = pd.to_numeric(df[\"INC_PCT_LO\"], errors='coerce')\n",
    "df['DEBT_MDN'] = pd.to_numeric(df[\"DEBT_MDN\"], errors='coerce')\n",
    "df['INC_PCT_H2'] = pd.to_numeric(df[\"INC_PCT_H2\"], errors='coerce')\n",
    "\n",
    "#df['CONTROL'] = df['CONTROL'].astype('category')\n",
    "#df['PREDDEG'] = df['PREDDEG'].astype('category')"
   ]
  },
  {
   "cell_type": "code",
   "execution_count": 14,
   "metadata": {},
   "outputs": [
    {
     "data": {
      "text/html": [
       "<div>\n",
       "<style scoped>\n",
       "    .dataframe tbody tr th:only-of-type {\n",
       "        vertical-align: middle;\n",
       "    }\n",
       "\n",
       "    .dataframe tbody tr th {\n",
       "        vertical-align: top;\n",
       "    }\n",
       "\n",
       "    .dataframe thead th {\n",
       "        text-align: right;\n",
       "    }\n",
       "</style>\n",
       "<table border=\"1\" class=\"dataframe\">\n",
       "  <thead>\n",
       "    <tr style=\"text-align: right;\">\n",
       "      <th></th>\n",
       "      <th>log_mn_earn_wne_p10</th>\n",
       "      <th>ADM_RATE_ALL</th>\n",
       "      <th>COSTT4_A</th>\n",
       "      <th>UGDS_BLACK</th>\n",
       "      <th>PPTUG_EF</th>\n",
       "      <th>UG25abv</th>\n",
       "      <th>PAR_ED_PCT_1STGEN</th>\n",
       "      <th>PCTFLOAN</th>\n",
       "      <th>C150_4</th>\n",
       "      <th>TUITIONFEE_OUT</th>\n",
       "      <th>TUITIONFEE_IN</th>\n",
       "      <th>UGDS_WHITE</th>\n",
       "      <th>TUITFTE</th>\n",
       "      <th>AVGFACSAL</th>\n",
       "      <th>INC_PCT_LO</th>\n",
       "      <th>UGDS</th>\n",
       "      <th>PCTPELL</th>\n",
       "      <th>DEBT_MDN</th>\n",
       "      <th>PCTFLOAN</th>\n",
       "      <th>INC_PCT_H2</th>\n",
       "    </tr>\n",
       "  </thead>\n",
       "  <tbody>\n",
       "    <tr>\n",
       "      <th>0</th>\n",
       "      <td>NaN</td>\n",
       "      <td>NaN</td>\n",
       "      <td>NaN</td>\n",
       "      <td>NaN</td>\n",
       "      <td>0.9752</td>\n",
       "      <td>NaN</td>\n",
       "      <td>NaN</td>\n",
       "      <td>NaN</td>\n",
       "      <td>NaN</td>\n",
       "      <td>NaN</td>\n",
       "      <td>NaN</td>\n",
       "      <td>NaN</td>\n",
       "      <td>NaN</td>\n",
       "      <td>NaN</td>\n",
       "      <td>NaN</td>\n",
       "      <td>44141.0</td>\n",
       "      <td>NaN</td>\n",
       "      <td>NaN</td>\n",
       "      <td>NaN</td>\n",
       "      <td>NaN</td>\n",
       "    </tr>\n",
       "    <tr>\n",
       "      <th>1</th>\n",
       "      <td>NaN</td>\n",
       "      <td>NaN</td>\n",
       "      <td>NaN</td>\n",
       "      <td>NaN</td>\n",
       "      <td>0.0852</td>\n",
       "      <td>NaN</td>\n",
       "      <td>NaN</td>\n",
       "      <td>NaN</td>\n",
       "      <td>NaN</td>\n",
       "      <td>NaN</td>\n",
       "      <td>NaN</td>\n",
       "      <td>NaN</td>\n",
       "      <td>NaN</td>\n",
       "      <td>4072.0</td>\n",
       "      <td>NaN</td>\n",
       "      <td>3852.0</td>\n",
       "      <td>NaN</td>\n",
       "      <td>NaN</td>\n",
       "      <td>NaN</td>\n",
       "      <td>NaN</td>\n",
       "    </tr>\n",
       "    <tr>\n",
       "      <th>2</th>\n",
       "      <td>NaN</td>\n",
       "      <td>NaN</td>\n",
       "      <td>NaN</td>\n",
       "      <td>NaN</td>\n",
       "      <td>0.3455</td>\n",
       "      <td>NaN</td>\n",
       "      <td>NaN</td>\n",
       "      <td>NaN</td>\n",
       "      <td>NaN</td>\n",
       "      <td>NaN</td>\n",
       "      <td>NaN</td>\n",
       "      <td>NaN</td>\n",
       "      <td>NaN</td>\n",
       "      <td>5708.0</td>\n",
       "      <td>NaN</td>\n",
       "      <td>9889.0</td>\n",
       "      <td>NaN</td>\n",
       "      <td>NaN</td>\n",
       "      <td>NaN</td>\n",
       "      <td>NaN</td>\n",
       "    </tr>\n",
       "    <tr>\n",
       "      <th>3</th>\n",
       "      <td>NaN</td>\n",
       "      <td>NaN</td>\n",
       "      <td>NaN</td>\n",
       "      <td>NaN</td>\n",
       "      <td>0.1458</td>\n",
       "      <td>NaN</td>\n",
       "      <td>NaN</td>\n",
       "      <td>NaN</td>\n",
       "      <td>NaN</td>\n",
       "      <td>NaN</td>\n",
       "      <td>NaN</td>\n",
       "      <td>NaN</td>\n",
       "      <td>NaN</td>\n",
       "      <td>4174.0</td>\n",
       "      <td>NaN</td>\n",
       "      <td>295.0</td>\n",
       "      <td>NaN</td>\n",
       "      <td>NaN</td>\n",
       "      <td>NaN</td>\n",
       "      <td>NaN</td>\n",
       "    </tr>\n",
       "    <tr>\n",
       "      <th>4</th>\n",
       "      <td>NaN</td>\n",
       "      <td>NaN</td>\n",
       "      <td>NaN</td>\n",
       "      <td>NaN</td>\n",
       "      <td>0.8667</td>\n",
       "      <td>NaN</td>\n",
       "      <td>NaN</td>\n",
       "      <td>NaN</td>\n",
       "      <td>NaN</td>\n",
       "      <td>NaN</td>\n",
       "      <td>NaN</td>\n",
       "      <td>NaN</td>\n",
       "      <td>NaN</td>\n",
       "      <td>3092.0</td>\n",
       "      <td>NaN</td>\n",
       "      <td>60.0</td>\n",
       "      <td>NaN</td>\n",
       "      <td>NaN</td>\n",
       "      <td>NaN</td>\n",
       "      <td>NaN</td>\n",
       "    </tr>\n",
       "  </tbody>\n",
       "</table>\n",
       "</div>"
      ],
      "text/plain": [
       "   log_mn_earn_wne_p10  ADM_RATE_ALL  COSTT4_A  UGDS_BLACK  PPTUG_EF  UG25abv  \\\n",
       "0                  NaN           NaN       NaN         NaN    0.9752      NaN   \n",
       "1                  NaN           NaN       NaN         NaN    0.0852      NaN   \n",
       "2                  NaN           NaN       NaN         NaN    0.3455      NaN   \n",
       "3                  NaN           NaN       NaN         NaN    0.1458      NaN   \n",
       "4                  NaN           NaN       NaN         NaN    0.8667      NaN   \n",
       "\n",
       "   PAR_ED_PCT_1STGEN  PCTFLOAN  C150_4  TUITIONFEE_OUT  TUITIONFEE_IN  \\\n",
       "0                NaN       NaN     NaN             NaN            NaN   \n",
       "1                NaN       NaN     NaN             NaN            NaN   \n",
       "2                NaN       NaN     NaN             NaN            NaN   \n",
       "3                NaN       NaN     NaN             NaN            NaN   \n",
       "4                NaN       NaN     NaN             NaN            NaN   \n",
       "\n",
       "   UGDS_WHITE  TUITFTE  AVGFACSAL  INC_PCT_LO     UGDS  PCTPELL  DEBT_MDN  \\\n",
       "0         NaN      NaN        NaN         NaN  44141.0      NaN       NaN   \n",
       "1         NaN      NaN     4072.0         NaN   3852.0      NaN       NaN   \n",
       "2         NaN      NaN     5708.0         NaN   9889.0      NaN       NaN   \n",
       "3         NaN      NaN     4174.0         NaN    295.0      NaN       NaN   \n",
       "4         NaN      NaN     3092.0         NaN     60.0      NaN       NaN   \n",
       "\n",
       "   PCTFLOAN  INC_PCT_H2  \n",
       "0       NaN         NaN  \n",
       "1       NaN         NaN  \n",
       "2       NaN         NaN  \n",
       "3       NaN         NaN  \n",
       "4       NaN         NaN  "
      ]
     },
     "execution_count": 14,
     "metadata": {},
     "output_type": "execute_result"
    }
   ],
   "source": [
    "df.head()"
   ]
  },
  {
   "cell_type": "code",
   "execution_count": 15,
   "metadata": {},
   "outputs": [],
   "source": [
    "# Dropping NAs\n",
    "\n",
    "df_dropna = df\n",
    "df_dropna = df_dropna.dropna(how='any')"
   ]
  },
  {
   "cell_type": "code",
   "execution_count": 16,
   "metadata": {},
   "outputs": [
    {
     "data": {
      "text/plain": [
       "(1733, 20)"
      ]
     },
     "execution_count": 16,
     "metadata": {},
     "output_type": "execute_result"
    }
   ],
   "source": [
    "df_dropna.shape"
   ]
  },
  {
   "cell_type": "markdown",
   "metadata": {},
   "source": [
    "#### Dropping NA's reduces the size of the dataset by a lot. Using data imputation technique instead."
   ]
  },
  {
   "cell_type": "code",
   "execution_count": 17,
   "metadata": {},
   "outputs": [
    {
     "data": {
      "text/plain": [
       "(124699, 20)"
      ]
     },
     "execution_count": 17,
     "metadata": {},
     "output_type": "execute_result"
    }
   ],
   "source": [
    "df.shape"
   ]
  },
  {
   "cell_type": "code",
   "execution_count": 18,
   "metadata": {},
   "outputs": [
    {
     "name": "stdout",
     "output_type": "stream",
     "text": [
      "<class 'pandas.core.frame.DataFrame'>\n",
      "RangeIndex: 124699 entries, 0 to 124698\n",
      "Data columns (total 20 columns):\n",
      " #   Column               Non-Null Count   Dtype  \n",
      "---  ------               --------------   -----  \n",
      " 0   log_mn_earn_wne_p10  16593 non-null   float64\n",
      " 1   ADM_RATE_ALL         37385 non-null   float64\n",
      " 2   COSTT4_A             20504 non-null   float64\n",
      " 3   UGDS_BLACK           41164 non-null   float64\n",
      " 4   PPTUG_EF             109381 non-null  float64\n",
      " 5   UG25abv              52591 non-null   float64\n",
      " 6   PAR_ED_PCT_1STGEN    102811 non-null  float64\n",
      " 7   PCTFLOAN             34444 non-null   float64\n",
      " 8   C150_4               34880 non-null   float64\n",
      " 9   TUITIONFEE_OUT       56844 non-null   float64\n",
      " 10  TUITIONFEE_IN        58024 non-null   float64\n",
      " 11  UGDS_WHITE           41164 non-null   float64\n",
      " 12  TUITFTE              106055 non-null  float64\n",
      " 13  AVGFACSAL            69652 non-null   float64\n",
      " 14  INC_PCT_LO           63485 non-null   float64\n",
      " 15  UGDS                 110343 non-null  float64\n",
      " 16  PCTPELL              40865 non-null   float64\n",
      " 17  DEBT_MDN             94869 non-null   float64\n",
      " 18  PCTFLOAN             34444 non-null   float64\n",
      " 19  INC_PCT_H2           48330 non-null   float64\n",
      "dtypes: float64(20)\n",
      "memory usage: 19.0 MB\n"
     ]
    }
   ],
   "source": [
    "df.info()"
   ]
  },
  {
   "cell_type": "markdown",
   "metadata": {},
   "source": [
    "Splitting data into features and targets:"
   ]
  },
  {
   "cell_type": "code",
   "execution_count": 19,
   "metadata": {},
   "outputs": [
    {
     "name": "stdout",
     "output_type": "stream",
     "text": [
      "Feature Names: ['ADM_RATE_ALL', 'COSTT4_A', 'UGDS_BLACK', 'PPTUG_EF', 'UG25abv', 'PAR_ED_PCT_1STGEN', 'PCTFLOAN', 'C150_4', 'TUITIONFEE_OUT', 'TUITIONFEE_IN', 'UGDS_WHITE', 'TUITFTE', 'AVGFACSAL', 'INC_PCT_LO', 'UGDS', 'PCTPELL', 'DEBT_MDN', 'PCTFLOAN', 'INC_PCT_H2']\n"
     ]
    }
   ],
   "source": [
    "features = df.iloc[:,1:20]\n",
    "targets = df.iloc[:,0]\n",
    "\n",
    "feature_names = list(features)\n",
    "print(\"Feature Names:\", feature_names)\n",
    "#print(\"Target\", list(targets))"
   ]
  },
  {
   "cell_type": "code",
   "execution_count": 20,
   "metadata": {},
   "outputs": [],
   "source": [
    "# Splitting train and test set\n",
    "from sklearn.preprocessing import StandardScaler\n",
    "from sklearn.model_selection import train_test_split\n",
    "\n",
    "X_train, X_test, y_train, y_test = train_test_split(features, targets, train_size=0.8, random_state=42)\n",
    "scaler = StandardScaler().fit(X_train)\n",
    "X_train_scaled = pd.DataFrame(scaler.transform(X_train), index=X_train.index.values, columns=X_train.columns.values)\n",
    "X_test_scaled = pd.DataFrame(scaler.transform(X_test), index=X_test.index.values, columns=X_test.columns.values)"
   ]
  },
  {
   "cell_type": "code",
   "execution_count": 21,
   "metadata": {},
   "outputs": [
    {
     "data": {
      "text/html": [
       "<div>\n",
       "<style scoped>\n",
       "    .dataframe tbody tr th:only-of-type {\n",
       "        vertical-align: middle;\n",
       "    }\n",
       "\n",
       "    .dataframe tbody tr th {\n",
       "        vertical-align: top;\n",
       "    }\n",
       "\n",
       "    .dataframe thead th {\n",
       "        text-align: right;\n",
       "    }\n",
       "</style>\n",
       "<table border=\"1\" class=\"dataframe\">\n",
       "  <thead>\n",
       "    <tr style=\"text-align: right;\">\n",
       "      <th></th>\n",
       "      <th>ADM_RATE_ALL</th>\n",
       "      <th>COSTT4_A</th>\n",
       "      <th>UGDS_BLACK</th>\n",
       "      <th>PPTUG_EF</th>\n",
       "      <th>UG25abv</th>\n",
       "      <th>PAR_ED_PCT_1STGEN</th>\n",
       "      <th>PCTFLOAN</th>\n",
       "      <th>C150_4</th>\n",
       "      <th>TUITIONFEE_OUT</th>\n",
       "      <th>TUITIONFEE_IN</th>\n",
       "      <th>UGDS_WHITE</th>\n",
       "      <th>TUITFTE</th>\n",
       "      <th>AVGFACSAL</th>\n",
       "      <th>INC_PCT_LO</th>\n",
       "      <th>UGDS</th>\n",
       "      <th>PCTPELL</th>\n",
       "      <th>DEBT_MDN</th>\n",
       "      <th>PCTFLOAN</th>\n",
       "      <th>INC_PCT_H2</th>\n",
       "    </tr>\n",
       "  </thead>\n",
       "  <tbody>\n",
       "    <tr>\n",
       "      <th>36851</th>\n",
       "      <td>-1.003703</td>\n",
       "      <td>NaN</td>\n",
       "      <td>NaN</td>\n",
       "      <td>-0.567093</td>\n",
       "      <td>-1.235685</td>\n",
       "      <td>-0.658777</td>\n",
       "      <td>NaN</td>\n",
       "      <td>0.492252</td>\n",
       "      <td>-0.206045</td>\n",
       "      <td>-0.639448</td>\n",
       "      <td>NaN</td>\n",
       "      <td>-0.054968</td>\n",
       "      <td>1.227662</td>\n",
       "      <td>-1.960158</td>\n",
       "      <td>1.588363</td>\n",
       "      <td>NaN</td>\n",
       "      <td>0.575237</td>\n",
       "      <td>NaN</td>\n",
       "      <td>0.873567</td>\n",
       "    </tr>\n",
       "    <tr>\n",
       "      <th>29946</th>\n",
       "      <td>NaN</td>\n",
       "      <td>NaN</td>\n",
       "      <td>NaN</td>\n",
       "      <td>NaN</td>\n",
       "      <td>NaN</td>\n",
       "      <td>0.484039</td>\n",
       "      <td>NaN</td>\n",
       "      <td>-0.764105</td>\n",
       "      <td>-0.821376</td>\n",
       "      <td>-0.744398</td>\n",
       "      <td>NaN</td>\n",
       "      <td>-0.072934</td>\n",
       "      <td>NaN</td>\n",
       "      <td>NaN</td>\n",
       "      <td>NaN</td>\n",
       "      <td>NaN</td>\n",
       "      <td>0.244842</td>\n",
       "      <td>NaN</td>\n",
       "      <td>NaN</td>\n",
       "    </tr>\n",
       "    <tr>\n",
       "      <th>13695</th>\n",
       "      <td>NaN</td>\n",
       "      <td>NaN</td>\n",
       "      <td>NaN</td>\n",
       "      <td>-0.005179</td>\n",
       "      <td>NaN</td>\n",
       "      <td>0.732706</td>\n",
       "      <td>NaN</td>\n",
       "      <td>NaN</td>\n",
       "      <td>NaN</td>\n",
       "      <td>NaN</td>\n",
       "      <td>NaN</td>\n",
       "      <td>-0.084953</td>\n",
       "      <td>-0.477529</td>\n",
       "      <td>1.000164</td>\n",
       "      <td>-0.155777</td>\n",
       "      <td>NaN</td>\n",
       "      <td>-1.279855</td>\n",
       "      <td>NaN</td>\n",
       "      <td>-0.629670</td>\n",
       "    </tr>\n",
       "    <tr>\n",
       "      <th>38936</th>\n",
       "      <td>0.547611</td>\n",
       "      <td>NaN</td>\n",
       "      <td>NaN</td>\n",
       "      <td>-0.592560</td>\n",
       "      <td>0.207497</td>\n",
       "      <td>0.475617</td>\n",
       "      <td>NaN</td>\n",
       "      <td>NaN</td>\n",
       "      <td>-1.326660</td>\n",
       "      <td>-1.059697</td>\n",
       "      <td>NaN</td>\n",
       "      <td>-0.071579</td>\n",
       "      <td>-0.656792</td>\n",
       "      <td>-0.091797</td>\n",
       "      <td>-0.344322</td>\n",
       "      <td>NaN</td>\n",
       "      <td>-0.390533</td>\n",
       "      <td>NaN</td>\n",
       "      <td>-0.420463</td>\n",
       "    </tr>\n",
       "    <tr>\n",
       "      <th>53</th>\n",
       "      <td>NaN</td>\n",
       "      <td>NaN</td>\n",
       "      <td>NaN</td>\n",
       "      <td>0.449118</td>\n",
       "      <td>NaN</td>\n",
       "      <td>NaN</td>\n",
       "      <td>NaN</td>\n",
       "      <td>NaN</td>\n",
       "      <td>NaN</td>\n",
       "      <td>NaN</td>\n",
       "      <td>NaN</td>\n",
       "      <td>NaN</td>\n",
       "      <td>-0.559101</td>\n",
       "      <td>NaN</td>\n",
       "      <td>-0.099718</td>\n",
       "      <td>NaN</td>\n",
       "      <td>NaN</td>\n",
       "      <td>NaN</td>\n",
       "      <td>NaN</td>\n",
       "    </tr>\n",
       "    <tr>\n",
       "      <th>...</th>\n",
       "      <td>...</td>\n",
       "      <td>...</td>\n",
       "      <td>...</td>\n",
       "      <td>...</td>\n",
       "      <td>...</td>\n",
       "      <td>...</td>\n",
       "      <td>...</td>\n",
       "      <td>...</td>\n",
       "      <td>...</td>\n",
       "      <td>...</td>\n",
       "      <td>...</td>\n",
       "      <td>...</td>\n",
       "      <td>...</td>\n",
       "      <td>...</td>\n",
       "      <td>...</td>\n",
       "      <td>...</td>\n",
       "      <td>...</td>\n",
       "      <td>...</td>\n",
       "      <td>...</td>\n",
       "    </tr>\n",
       "    <tr>\n",
       "      <th>119879</th>\n",
       "      <td>-0.937670</td>\n",
       "      <td>1.495561</td>\n",
       "      <td>0.547337</td>\n",
       "      <td>-0.564218</td>\n",
       "      <td>-0.627454</td>\n",
       "      <td>-0.728511</td>\n",
       "      <td>0.251172</td>\n",
       "      <td>-0.363665</td>\n",
       "      <td>2.002759</td>\n",
       "      <td>2.069826</td>\n",
       "      <td>0.598740</td>\n",
       "      <td>-0.010150</td>\n",
       "      <td>0.768028</td>\n",
       "      <td>NaN</td>\n",
       "      <td>-0.140240</td>\n",
       "      <td>-0.601830</td>\n",
       "      <td>2.472517</td>\n",
       "      <td>0.251172</td>\n",
       "      <td>NaN</td>\n",
       "    </tr>\n",
       "    <tr>\n",
       "      <th>103694</th>\n",
       "      <td>0.270181</td>\n",
       "      <td>-0.659403</td>\n",
       "      <td>-0.392902</td>\n",
       "      <td>-0.079526</td>\n",
       "      <td>-0.803641</td>\n",
       "      <td>-1.162708</td>\n",
       "      <td>-0.172288</td>\n",
       "      <td>-0.272570</td>\n",
       "      <td>0.400934</td>\n",
       "      <td>-0.486425</td>\n",
       "      <td>0.986234</td>\n",
       "      <td>-0.056385</td>\n",
       "      <td>1.180282</td>\n",
       "      <td>NaN</td>\n",
       "      <td>2.008494</td>\n",
       "      <td>-0.819454</td>\n",
       "      <td>0.829387</td>\n",
       "      <td>-0.172288</td>\n",
       "      <td>NaN</td>\n",
       "    </tr>\n",
       "    <tr>\n",
       "      <th>860</th>\n",
       "      <td>NaN</td>\n",
       "      <td>NaN</td>\n",
       "      <td>NaN</td>\n",
       "      <td>3.084941</td>\n",
       "      <td>NaN</td>\n",
       "      <td>NaN</td>\n",
       "      <td>NaN</td>\n",
       "      <td>NaN</td>\n",
       "      <td>NaN</td>\n",
       "      <td>NaN</td>\n",
       "      <td>NaN</td>\n",
       "      <td>NaN</td>\n",
       "      <td>-0.366650</td>\n",
       "      <td>NaN</td>\n",
       "      <td>-0.431245</td>\n",
       "      <td>NaN</td>\n",
       "      <td>NaN</td>\n",
       "      <td>NaN</td>\n",
       "      <td>NaN</td>\n",
       "    </tr>\n",
       "    <tr>\n",
       "      <th>15795</th>\n",
       "      <td>NaN</td>\n",
       "      <td>NaN</td>\n",
       "      <td>NaN</td>\n",
       "      <td>0.677909</td>\n",
       "      <td>NaN</td>\n",
       "      <td>-1.103646</td>\n",
       "      <td>NaN</td>\n",
       "      <td>NaN</td>\n",
       "      <td>NaN</td>\n",
       "      <td>NaN</td>\n",
       "      <td>NaN</td>\n",
       "      <td>-0.041441</td>\n",
       "      <td>-2.510473</td>\n",
       "      <td>NaN</td>\n",
       "      <td>-0.413189</td>\n",
       "      <td>NaN</td>\n",
       "      <td>-0.509882</td>\n",
       "      <td>NaN</td>\n",
       "      <td>NaN</td>\n",
       "    </tr>\n",
       "    <tr>\n",
       "      <th>121958</th>\n",
       "      <td>0.509091</td>\n",
       "      <td>1.347364</td>\n",
       "      <td>0.350236</td>\n",
       "      <td>0.754721</td>\n",
       "      <td>1.284193</td>\n",
       "      <td>-0.613935</td>\n",
       "      <td>0.651833</td>\n",
       "      <td>0.215645</td>\n",
       "      <td>0.099287</td>\n",
       "      <td>0.320895</td>\n",
       "      <td>0.001870</td>\n",
       "      <td>-0.022551</td>\n",
       "      <td>0.108127</td>\n",
       "      <td>0.059988</td>\n",
       "      <td>-0.340543</td>\n",
       "      <td>-0.886124</td>\n",
       "      <td>1.079064</td>\n",
       "      <td>0.651833</td>\n",
       "      <td>0.046407</td>\n",
       "    </tr>\n",
       "  </tbody>\n",
       "</table>\n",
       "<p>99759 rows × 19 columns</p>\n",
       "</div>"
      ],
      "text/plain": [
       "        ADM_RATE_ALL  COSTT4_A  UGDS_BLACK  PPTUG_EF   UG25abv  \\\n",
       "36851      -1.003703       NaN         NaN -0.567093 -1.235685   \n",
       "29946            NaN       NaN         NaN       NaN       NaN   \n",
       "13695            NaN       NaN         NaN -0.005179       NaN   \n",
       "38936       0.547611       NaN         NaN -0.592560  0.207497   \n",
       "53               NaN       NaN         NaN  0.449118       NaN   \n",
       "...              ...       ...         ...       ...       ...   \n",
       "119879     -0.937670  1.495561    0.547337 -0.564218 -0.627454   \n",
       "103694      0.270181 -0.659403   -0.392902 -0.079526 -0.803641   \n",
       "860              NaN       NaN         NaN  3.084941       NaN   \n",
       "15795            NaN       NaN         NaN  0.677909       NaN   \n",
       "121958      0.509091  1.347364    0.350236  0.754721  1.284193   \n",
       "\n",
       "        PAR_ED_PCT_1STGEN  PCTFLOAN    C150_4  TUITIONFEE_OUT  TUITIONFEE_IN  \\\n",
       "36851           -0.658777       NaN  0.492252       -0.206045      -0.639448   \n",
       "29946            0.484039       NaN -0.764105       -0.821376      -0.744398   \n",
       "13695            0.732706       NaN       NaN             NaN            NaN   \n",
       "38936            0.475617       NaN       NaN       -1.326660      -1.059697   \n",
       "53                    NaN       NaN       NaN             NaN            NaN   \n",
       "...                   ...       ...       ...             ...            ...   \n",
       "119879          -0.728511  0.251172 -0.363665        2.002759       2.069826   \n",
       "103694          -1.162708 -0.172288 -0.272570        0.400934      -0.486425   \n",
       "860                   NaN       NaN       NaN             NaN            NaN   \n",
       "15795           -1.103646       NaN       NaN             NaN            NaN   \n",
       "121958          -0.613935  0.651833  0.215645        0.099287       0.320895   \n",
       "\n",
       "        UGDS_WHITE   TUITFTE  AVGFACSAL  INC_PCT_LO      UGDS   PCTPELL  \\\n",
       "36851          NaN -0.054968   1.227662   -1.960158  1.588363       NaN   \n",
       "29946          NaN -0.072934        NaN         NaN       NaN       NaN   \n",
       "13695          NaN -0.084953  -0.477529    1.000164 -0.155777       NaN   \n",
       "38936          NaN -0.071579  -0.656792   -0.091797 -0.344322       NaN   \n",
       "53             NaN       NaN  -0.559101         NaN -0.099718       NaN   \n",
       "...            ...       ...        ...         ...       ...       ...   \n",
       "119879    0.598740 -0.010150   0.768028         NaN -0.140240 -0.601830   \n",
       "103694    0.986234 -0.056385   1.180282         NaN  2.008494 -0.819454   \n",
       "860            NaN       NaN  -0.366650         NaN -0.431245       NaN   \n",
       "15795          NaN -0.041441  -2.510473         NaN -0.413189       NaN   \n",
       "121958    0.001870 -0.022551   0.108127    0.059988 -0.340543 -0.886124   \n",
       "\n",
       "        DEBT_MDN  PCTFLOAN  INC_PCT_H2  \n",
       "36851   0.575237       NaN    0.873567  \n",
       "29946   0.244842       NaN         NaN  \n",
       "13695  -1.279855       NaN   -0.629670  \n",
       "38936  -0.390533       NaN   -0.420463  \n",
       "53           NaN       NaN         NaN  \n",
       "...          ...       ...         ...  \n",
       "119879  2.472517  0.251172         NaN  \n",
       "103694  0.829387 -0.172288         NaN  \n",
       "860          NaN       NaN         NaN  \n",
       "15795  -0.509882       NaN         NaN  \n",
       "121958  1.079064  0.651833    0.046407  \n",
       "\n",
       "[99759 rows x 19 columns]"
      ]
     },
     "execution_count": 21,
     "metadata": {},
     "output_type": "execute_result"
    }
   ],
   "source": [
    "X_train_scaled"
   ]
  },
  {
   "cell_type": "code",
   "execution_count": 22,
   "metadata": {},
   "outputs": [
    {
     "data": {
      "text/html": [
       "<div>\n",
       "<style scoped>\n",
       "    .dataframe tbody tr th:only-of-type {\n",
       "        vertical-align: middle;\n",
       "    }\n",
       "\n",
       "    .dataframe tbody tr th {\n",
       "        vertical-align: top;\n",
       "    }\n",
       "\n",
       "    .dataframe thead th {\n",
       "        text-align: right;\n",
       "    }\n",
       "</style>\n",
       "<table border=\"1\" class=\"dataframe\">\n",
       "  <thead>\n",
       "    <tr style=\"text-align: right;\">\n",
       "      <th></th>\n",
       "      <th>ADM_RATE_ALL</th>\n",
       "      <th>COSTT4_A</th>\n",
       "      <th>UGDS_BLACK</th>\n",
       "      <th>PPTUG_EF</th>\n",
       "      <th>UG25abv</th>\n",
       "      <th>PAR_ED_PCT_1STGEN</th>\n",
       "      <th>PCTFLOAN</th>\n",
       "      <th>C150_4</th>\n",
       "      <th>TUITIONFEE_OUT</th>\n",
       "      <th>TUITIONFEE_IN</th>\n",
       "      <th>UGDS_WHITE</th>\n",
       "      <th>TUITFTE</th>\n",
       "      <th>AVGFACSAL</th>\n",
       "      <th>INC_PCT_LO</th>\n",
       "      <th>UGDS</th>\n",
       "      <th>PCTPELL</th>\n",
       "      <th>DEBT_MDN</th>\n",
       "      <th>PCTFLOAN</th>\n",
       "      <th>INC_PCT_H2</th>\n",
       "    </tr>\n",
       "  </thead>\n",
       "  <tbody>\n",
       "    <tr>\n",
       "      <th>84897</th>\n",
       "      <td>NaN</td>\n",
       "      <td>NaN</td>\n",
       "      <td>-0.692798</td>\n",
       "      <td>-0.938006</td>\n",
       "      <td>NaN</td>\n",
       "      <td>0.994748</td>\n",
       "      <td>NaN</td>\n",
       "      <td>NaN</td>\n",
       "      <td>NaN</td>\n",
       "      <td>NaN</td>\n",
       "      <td>-1.246719</td>\n",
       "      <td>-0.092463</td>\n",
       "      <td>NaN</td>\n",
       "      <td>NaN</td>\n",
       "      <td>-0.328155</td>\n",
       "      <td>1.475865</td>\n",
       "      <td>-0.288873</td>\n",
       "      <td>NaN</td>\n",
       "      <td>NaN</td>\n",
       "    </tr>\n",
       "    <tr>\n",
       "      <th>91689</th>\n",
       "      <td>-0.373181</td>\n",
       "      <td>0.057540</td>\n",
       "      <td>-0.416951</td>\n",
       "      <td>-0.938006</td>\n",
       "      <td>-0.075221</td>\n",
       "      <td>0.848150</td>\n",
       "      <td>-0.085785</td>\n",
       "      <td>0.067140</td>\n",
       "      <td>0.293220</td>\n",
       "      <td>0.499083</td>\n",
       "      <td>-1.002251</td>\n",
       "      <td>-0.004571</td>\n",
       "      <td>-0.931303</td>\n",
       "      <td>0.375893</td>\n",
       "      <td>-0.322486</td>\n",
       "      <td>-0.272670</td>\n",
       "      <td>0.787706</td>\n",
       "      <td>-0.085785</td>\n",
       "      <td>-0.422844</td>\n",
       "    </tr>\n",
       "    <tr>\n",
       "      <th>85226</th>\n",
       "      <td>-0.640522</td>\n",
       "      <td>NaN</td>\n",
       "      <td>-0.692798</td>\n",
       "      <td>0.764989</td>\n",
       "      <td>NaN</td>\n",
       "      <td>0.295165</td>\n",
       "      <td>NaN</td>\n",
       "      <td>NaN</td>\n",
       "      <td>-0.138248</td>\n",
       "      <td>0.102646</td>\n",
       "      <td>-1.246719</td>\n",
       "      <td>-0.030291</td>\n",
       "      <td>-0.382769</td>\n",
       "      <td>-1.112676</td>\n",
       "      <td>-0.417178</td>\n",
       "      <td>0.084166</td>\n",
       "      <td>0.384726</td>\n",
       "      <td>NaN</td>\n",
       "      <td>NaN</td>\n",
       "    </tr>\n",
       "    <tr>\n",
       "      <th>37680</th>\n",
       "      <td>0.725991</td>\n",
       "      <td>NaN</td>\n",
       "      <td>NaN</td>\n",
       "      <td>-0.832853</td>\n",
       "      <td>-1.443740</td>\n",
       "      <td>-1.504624</td>\n",
       "      <td>NaN</td>\n",
       "      <td>0.741816</td>\n",
       "      <td>0.183050</td>\n",
       "      <td>0.397858</td>\n",
       "      <td>NaN</td>\n",
       "      <td>-0.048986</td>\n",
       "      <td>NaN</td>\n",
       "      <td>NaN</td>\n",
       "      <td>-0.312198</td>\n",
       "      <td>NaN</td>\n",
       "      <td>-0.328114</td>\n",
       "      <td>NaN</td>\n",
       "      <td>NaN</td>\n",
       "    </tr>\n",
       "    <tr>\n",
       "      <th>52294</th>\n",
       "      <td>NaN</td>\n",
       "      <td>NaN</td>\n",
       "      <td>NaN</td>\n",
       "      <td>-0.938006</td>\n",
       "      <td>2.517955</td>\n",
       "      <td>0.019599</td>\n",
       "      <td>NaN</td>\n",
       "      <td>NaN</td>\n",
       "      <td>-0.168953</td>\n",
       "      <td>0.074433</td>\n",
       "      <td>NaN</td>\n",
       "      <td>0.004689</td>\n",
       "      <td>-0.370069</td>\n",
       "      <td>-1.028234</td>\n",
       "      <td>-0.346212</td>\n",
       "      <td>NaN</td>\n",
       "      <td>-0.397243</td>\n",
       "      <td>NaN</td>\n",
       "      <td>-0.100665</td>\n",
       "    </tr>\n",
       "    <tr>\n",
       "      <th>...</th>\n",
       "      <td>...</td>\n",
       "      <td>...</td>\n",
       "      <td>...</td>\n",
       "      <td>...</td>\n",
       "      <td>...</td>\n",
       "      <td>...</td>\n",
       "      <td>...</td>\n",
       "      <td>...</td>\n",
       "      <td>...</td>\n",
       "      <td>...</td>\n",
       "      <td>...</td>\n",
       "      <td>...</td>\n",
       "      <td>...</td>\n",
       "      <td>...</td>\n",
       "      <td>...</td>\n",
       "      <td>...</td>\n",
       "      <td>...</td>\n",
       "      <td>...</td>\n",
       "      <td>...</td>\n",
       "    </tr>\n",
       "    <tr>\n",
       "      <th>74252</th>\n",
       "      <td>NaN</td>\n",
       "      <td>NaN</td>\n",
       "      <td>NaN</td>\n",
       "      <td>0.206772</td>\n",
       "      <td>-0.009208</td>\n",
       "      <td>0.843228</td>\n",
       "      <td>NaN</td>\n",
       "      <td>NaN</td>\n",
       "      <td>-0.140705</td>\n",
       "      <td>0.100389</td>\n",
       "      <td>NaN</td>\n",
       "      <td>-0.022232</td>\n",
       "      <td>-0.436499</td>\n",
       "      <td>NaN</td>\n",
       "      <td>-0.349151</td>\n",
       "      <td>NaN</td>\n",
       "      <td>-0.288873</td>\n",
       "      <td>NaN</td>\n",
       "      <td>NaN</td>\n",
       "    </tr>\n",
       "    <tr>\n",
       "      <th>117089</th>\n",
       "      <td>-0.414451</td>\n",
       "      <td>-0.454427</td>\n",
       "      <td>0.641644</td>\n",
       "      <td>-0.595846</td>\n",
       "      <td>-1.064507</td>\n",
       "      <td>-0.360885</td>\n",
       "      <td>-0.063992</td>\n",
       "      <td>-0.894581</td>\n",
       "      <td>-0.246822</td>\n",
       "      <td>-0.352587</td>\n",
       "      <td>0.650052</td>\n",
       "      <td>-0.070141</td>\n",
       "      <td>0.457859</td>\n",
       "      <td>-0.401334</td>\n",
       "      <td>0.102684</td>\n",
       "      <td>0.103454</td>\n",
       "      <td>0.321087</td>\n",
       "      <td>-0.063992</td>\n",
       "      <td>0.076375</td>\n",
       "    </tr>\n",
       "    <tr>\n",
       "      <th>12312</th>\n",
       "      <td>NaN</td>\n",
       "      <td>NaN</td>\n",
       "      <td>NaN</td>\n",
       "      <td>-0.938006</td>\n",
       "      <td>NaN</td>\n",
       "      <td>0.376455</td>\n",
       "      <td>NaN</td>\n",
       "      <td>NaN</td>\n",
       "      <td>NaN</td>\n",
       "      <td>NaN</td>\n",
       "      <td>NaN</td>\n",
       "      <td>NaN</td>\n",
       "      <td>NaN</td>\n",
       "      <td>0.677984</td>\n",
       "      <td>-0.436075</td>\n",
       "      <td>NaN</td>\n",
       "      <td>-0.961252</td>\n",
       "      <td>NaN</td>\n",
       "      <td>NaN</td>\n",
       "    </tr>\n",
       "    <tr>\n",
       "      <th>21659</th>\n",
       "      <td>NaN</td>\n",
       "      <td>NaN</td>\n",
       "      <td>NaN</td>\n",
       "      <td>0.010019</td>\n",
       "      <td>-0.213621</td>\n",
       "      <td>0.478185</td>\n",
       "      <td>NaN</td>\n",
       "      <td>NaN</td>\n",
       "      <td>NaN</td>\n",
       "      <td>NaN</td>\n",
       "      <td>NaN</td>\n",
       "      <td>-0.042838</td>\n",
       "      <td>-1.301062</td>\n",
       "      <td>-0.594420</td>\n",
       "      <td>-0.320596</td>\n",
       "      <td>NaN</td>\n",
       "      <td>-0.466981</td>\n",
       "      <td>NaN</td>\n",
       "      <td>-0.392753</td>\n",
       "    </tr>\n",
       "    <tr>\n",
       "      <th>37313</th>\n",
       "      <td>NaN</td>\n",
       "      <td>NaN</td>\n",
       "      <td>NaN</td>\n",
       "      <td>1.181907</td>\n",
       "      <td>-0.723970</td>\n",
       "      <td>0.543987</td>\n",
       "      <td>NaN</td>\n",
       "      <td>NaN</td>\n",
       "      <td>-1.231842</td>\n",
       "      <td>-1.098630</td>\n",
       "      <td>NaN</td>\n",
       "      <td>-0.087635</td>\n",
       "      <td>-0.527840</td>\n",
       "      <td>NaN</td>\n",
       "      <td>0.657399</td>\n",
       "      <td>NaN</td>\n",
       "      <td>-1.119029</td>\n",
       "      <td>NaN</td>\n",
       "      <td>NaN</td>\n",
       "    </tr>\n",
       "  </tbody>\n",
       "</table>\n",
       "<p>24940 rows × 19 columns</p>\n",
       "</div>"
      ],
      "text/plain": [
       "        ADM_RATE_ALL  COSTT4_A  UGDS_BLACK  PPTUG_EF   UG25abv  \\\n",
       "84897            NaN       NaN   -0.692798 -0.938006       NaN   \n",
       "91689      -0.373181  0.057540   -0.416951 -0.938006 -0.075221   \n",
       "85226      -0.640522       NaN   -0.692798  0.764989       NaN   \n",
       "37680       0.725991       NaN         NaN -0.832853 -1.443740   \n",
       "52294            NaN       NaN         NaN -0.938006  2.517955   \n",
       "...              ...       ...         ...       ...       ...   \n",
       "74252            NaN       NaN         NaN  0.206772 -0.009208   \n",
       "117089     -0.414451 -0.454427    0.641644 -0.595846 -1.064507   \n",
       "12312            NaN       NaN         NaN -0.938006       NaN   \n",
       "21659            NaN       NaN         NaN  0.010019 -0.213621   \n",
       "37313            NaN       NaN         NaN  1.181907 -0.723970   \n",
       "\n",
       "        PAR_ED_PCT_1STGEN  PCTFLOAN    C150_4  TUITIONFEE_OUT  TUITIONFEE_IN  \\\n",
       "84897            0.994748       NaN       NaN             NaN            NaN   \n",
       "91689            0.848150 -0.085785  0.067140        0.293220       0.499083   \n",
       "85226            0.295165       NaN       NaN       -0.138248       0.102646   \n",
       "37680           -1.504624       NaN  0.741816        0.183050       0.397858   \n",
       "52294            0.019599       NaN       NaN       -0.168953       0.074433   \n",
       "...                   ...       ...       ...             ...            ...   \n",
       "74252            0.843228       NaN       NaN       -0.140705       0.100389   \n",
       "117089          -0.360885 -0.063992 -0.894581       -0.246822      -0.352587   \n",
       "12312            0.376455       NaN       NaN             NaN            NaN   \n",
       "21659            0.478185       NaN       NaN             NaN            NaN   \n",
       "37313            0.543987       NaN       NaN       -1.231842      -1.098630   \n",
       "\n",
       "        UGDS_WHITE   TUITFTE  AVGFACSAL  INC_PCT_LO      UGDS   PCTPELL  \\\n",
       "84897    -1.246719 -0.092463        NaN         NaN -0.328155  1.475865   \n",
       "91689    -1.002251 -0.004571  -0.931303    0.375893 -0.322486 -0.272670   \n",
       "85226    -1.246719 -0.030291  -0.382769   -1.112676 -0.417178  0.084166   \n",
       "37680          NaN -0.048986        NaN         NaN -0.312198       NaN   \n",
       "52294          NaN  0.004689  -0.370069   -1.028234 -0.346212       NaN   \n",
       "...            ...       ...        ...         ...       ...       ...   \n",
       "74252          NaN -0.022232  -0.436499         NaN -0.349151       NaN   \n",
       "117089    0.650052 -0.070141   0.457859   -0.401334  0.102684  0.103454   \n",
       "12312          NaN       NaN        NaN    0.677984 -0.436075       NaN   \n",
       "21659          NaN -0.042838  -1.301062   -0.594420 -0.320596       NaN   \n",
       "37313          NaN -0.087635  -0.527840         NaN  0.657399       NaN   \n",
       "\n",
       "        DEBT_MDN  PCTFLOAN  INC_PCT_H2  \n",
       "84897  -0.288873       NaN         NaN  \n",
       "91689   0.787706 -0.085785   -0.422844  \n",
       "85226   0.384726       NaN         NaN  \n",
       "37680  -0.328114       NaN         NaN  \n",
       "52294  -0.397243       NaN   -0.100665  \n",
       "...          ...       ...         ...  \n",
       "74252  -0.288873       NaN         NaN  \n",
       "117089  0.321087 -0.063992    0.076375  \n",
       "12312  -0.961252       NaN         NaN  \n",
       "21659  -0.466981       NaN   -0.392753  \n",
       "37313  -1.119029       NaN         NaN  \n",
       "\n",
       "[24940 rows x 19 columns]"
      ]
     },
     "execution_count": 22,
     "metadata": {},
     "output_type": "execute_result"
    }
   ],
   "source": [
    "X_test_scaled"
   ]
  },
  {
   "cell_type": "markdown",
   "metadata": {},
   "source": [
    "There are a lot of NaN values. Data imputation required. Using a python library:"
   ]
  },
  {
   "cell_type": "code",
   "execution_count": 61,
   "metadata": {},
   "outputs": [
    {
     "name": "stdout",
     "output_type": "stream",
     "text": [
      "Time taken to Impute Values: 0.03 seconds\n"
     ]
    }
   ],
   "source": [
    "from sklearn.impute import SimpleImputer\n",
    "\n",
    "start = time.time()\n",
    "\n",
    "imp = SimpleImputer(strategy='mean')\n",
    "imp.fit(X_train_scaled)\n",
    "X_train_scaled = imp.transform(X_train_scaled)\n",
    "\n",
    "imp.fit(X_test_scaled)\n",
    "X_test_scaled = imp.transform(X_test_scaled)\n",
    "stop = time.time()\n",
    "\n",
    "print('Time taken to Impute Values:', round((stop-start), 2), 'seconds')"
   ]
  },
  {
   "cell_type": "code",
   "execution_count": 62,
   "metadata": {},
   "outputs": [],
   "source": [
    "# print(X_train_scaled)\n",
    "# print(X_test_scaled)"
   ]
  },
  {
   "cell_type": "code",
   "execution_count": 25,
   "metadata": {},
   "outputs": [],
   "source": [
    "y_train.fillna(y_train.mean(), inplace=True)\n",
    "y_test.fillna(y_train.mean(), inplace=True)"
   ]
  },
  {
   "cell_type": "code",
   "execution_count": 26,
   "metadata": {
    "scrolled": true
   },
   "outputs": [
    {
     "name": "stdout",
     "output_type": "stream",
     "text": [
      "<class 'numpy.ndarray'>\n",
      "<class 'pandas.core.series.Series'>\n"
     ]
    }
   ],
   "source": [
    "print(type(X_train_scaled))\n",
    "print(type(y_train))"
   ]
  },
  {
   "cell_type": "code",
   "execution_count": 27,
   "metadata": {},
   "outputs": [
    {
     "name": "stdout",
     "output_type": "stream",
     "text": [
      "Training Data shape (99759, 19)\n",
      "Test Data shape (24940, 19)\n"
     ]
    }
   ],
   "source": [
    "print(\"Training Data shape\",X_train_scaled.shape)\n",
    "print(\"Test Data shape\", X_test_scaled.shape)"
   ]
  },
  {
   "cell_type": "code",
   "execution_count": 28,
   "metadata": {},
   "outputs": [],
   "source": [
    "temp = X_train_scaled\n",
    "y_temp = y_train.values\n",
    "\n",
    "trainingData = np.column_stack((temp, y_temp))"
   ]
  },
  {
   "cell_type": "code",
   "execution_count": 29,
   "metadata": {},
   "outputs": [],
   "source": [
    "temp2 = X_test_scaled\n",
    "y_temp2 = y_test.values\n",
    "\n",
    "testData = np.column_stack((temp2, y_temp2))"
   ]
  },
  {
   "cell_type": "code",
   "execution_count": 30,
   "metadata": {},
   "outputs": [
    {
     "data": {
      "text/plain": [
       "(99759, 20)"
      ]
     },
     "execution_count": 30,
     "metadata": {},
     "output_type": "execute_result"
    }
   ],
   "source": [
    "trainingData.shape"
   ]
  },
  {
   "cell_type": "code",
   "execution_count": 31,
   "metadata": {},
   "outputs": [
    {
     "data": {
      "text/plain": [
       "(24940, 20)"
      ]
     },
     "execution_count": 31,
     "metadata": {},
     "output_type": "execute_result"
    }
   ],
   "source": [
    "testData.shape"
   ]
  },
  {
   "cell_type": "markdown",
   "metadata": {},
   "source": [
    "### 1. Random Forest"
   ]
  },
  {
   "cell_type": "code",
   "execution_count": 32,
   "metadata": {},
   "outputs": [],
   "source": [
    "from sklearn.ensemble import RandomForestRegressor \n",
    "\n",
    "start = time.time()\n",
    "RF_model = RandomForestRegressor(n_estimators=1000, random_state=0)\n",
    "RF_model.fit(X_train_scaled, y_train)\n",
    "stop = time.time()"
   ]
  },
  {
   "cell_type": "code",
   "execution_count": 33,
   "metadata": {},
   "outputs": [
    {
     "name": "stdout",
     "output_type": "stream",
     "text": [
      "Time taken to train using Random Forest: 867.84 seconds\n"
     ]
    }
   ],
   "source": [
    "print('Time taken to train using Random Forest:', round((stop-start), 2), 'seconds')"
   ]
  },
  {
   "cell_type": "markdown",
   "metadata": {},
   "source": [
    "- **Model Evaluation**"
   ]
  },
  {
   "cell_type": "code",
   "execution_count": 63,
   "metadata": {},
   "outputs": [
    {
     "name": "stdout",
     "output_type": "stream",
     "text": [
      "Test data Spearman correlation: 0.337\n",
      "Test data Pearson correlation: 0.469\n"
     ]
    }
   ],
   "source": [
    "from sklearn.metrics import r2_score\n",
    "from scipy.stats import spearmanr, pearsonr\n",
    "\n",
    "predicted_train = RF_model.predict(X_train_scaled)\n",
    "predicted_test = RF_model.predict(X_test_scaled)\n",
    "test_score = r2_score(y_test, predicted_test)\n",
    "spearman = spearmanr(y_test, predicted_test)\n",
    "pearson = pearsonr(y_test, predicted_test)\n",
    "\n",
    "#print(f'Test data R-2 score: {test_score:>5.3}')\n",
    "print(f'Test data Spearman correlation: {spearman[0]:.3}')\n",
    "print(f'Test data Pearson correlation: {pearson[0]:.3}')"
   ]
  },
  {
   "cell_type": "markdown",
   "metadata": {},
   "source": [
    "- **Feature Importance**"
   ]
  },
  {
   "cell_type": "code",
   "execution_count": 35,
   "metadata": {},
   "outputs": [
    {
     "name": "stdout",
     "output_type": "stream",
     "text": [
      "[0.03049218 0.02301388 0.02213579 0.03337603 0.13543116 0.09844589\n",
      " 0.01696476 0.01937453 0.03238953 0.03376114 0.03245242 0.07968022\n",
      " 0.07826944 0.06216233 0.05894464 0.08085882 0.11474239 0.0168912\n",
      " 0.03061366]\n"
     ]
    }
   ],
   "source": [
    "features_importance = RF_model.feature_importances_\n",
    "print(features_importance)"
   ]
  },
  {
   "cell_type": "code",
   "execution_count": 36,
   "metadata": {},
   "outputs": [
    {
     "data": {
      "text/plain": [
       "<matplotlib.axes._subplots.AxesSubplot at 0x7f8a8adbcfd0>"
      ]
     },
     "execution_count": 36,
     "metadata": {},
     "output_type": "execute_result"
    },
    {
     "data": {
      "image/png": "[encoded data removed]",
      "text/plain": [
       "<Figure size 432x288 with 1 Axes>"
      ]
     },
     "metadata": {
      "needs_background": "light"
     },
     "output_type": "display_data"
    }
   ],
   "source": [
    "# Feature Importance \n",
    "feature_importances = pd.Series(RF_model.feature_importances_, index=features.columns)\n",
    "feature_importances.nlargest(10).plot(kind='barh')"
   ]
  },
  {
   "cell_type": "markdown",
   "metadata": {},
   "source": [
    "- **Hyperparameter Tuning: Grid Search**"
   ]
  },
  {
   "cell_type": "code",
   "execution_count": 37,
   "metadata": {},
   "outputs": [
    {
     "name": "stdout",
     "output_type": "stream",
     "text": [
      "Fitting 3 folds for each of 288 candidates, totalling 864 fits\n"
     ]
    },
    {
     "name": "stderr",
     "output_type": "stream",
     "text": [
      "[Parallel(n_jobs=-1)]: Using backend LokyBackend with 8 concurrent workers.\n",
      "[Parallel(n_jobs=-1)]: Done  25 tasks      | elapsed:   33.5s\n",
      "[Parallel(n_jobs=-1)]: Done 146 tasks      | elapsed:  3.9min\n",
      "[Parallel(n_jobs=-1)]: Done 349 tasks      | elapsed:  9.9min\n",
      "[Parallel(n_jobs=-1)]: Done 632 tasks      | elapsed: 19.2min\n",
      "[Parallel(n_jobs=-1)]: Done 864 out of 864 | elapsed: 27.0min finished\n"
     ]
    },
    {
     "name": "stdout",
     "output_type": "stream",
     "text": [
      "Time taken for Grid Search: 1630.74 seconds\n"
     ]
    }
   ],
   "source": [
    "# Tuning Hyper parameters - Grid Search\n",
    "from sklearn.model_selection import GridSearchCV\n",
    "\n",
    "param_grid = {\n",
    "    'bootstrap': [True],\n",
    "    'max_depth': [80, 90, 100, 110],\n",
    "    'max_features': [2, 3],\n",
    "    'min_samples_leaf': [3, 4, 5],\n",
    "    'min_samples_split': [8, 10, 12],\n",
    "    'n_estimators': [100, 200, 300, 1000]\n",
    "}\n",
    "\n",
    "rf = RandomForestRegressor()\n",
    "\n",
    "# Instantiate the grid search model\n",
    "start = time.time()\n",
    "grid_search = GridSearchCV(estimator = rf, param_grid = param_grid, \n",
    "                          cv = 3, n_jobs = -1, verbose = 2)\n",
    "\n",
    "# Fit the grid search to the data\n",
    "#grid_search.fit(X_train_scaled, y_train)\n",
    "grid_search.fit(X_test_scaled, y_test)\n",
    "stop = time.time()\n",
    "\n",
    "print('Time taken for Grid Search:', round((stop-start),2),'seconds')"
   ]
  },
  {
   "cell_type": "code",
   "execution_count": 38,
   "metadata": {},
   "outputs": [
    {
     "name": "stdout",
     "output_type": "stream",
     "text": [
      "Best Parameters Found: {'bootstrap': True, 'max_depth': 100, 'max_features': 3, 'min_samples_leaf': 3, 'min_samples_split': 8, 'n_estimators': 300}\n",
      "Best Score Found: 0.3276857226863723\n"
     ]
    }
   ],
   "source": [
    "print('Best Parameters Found:',grid_search.best_params_)\n",
    "print('Best Score Found:', grid_search.best_score_ )"
   ]
  },
  {
   "cell_type": "code",
   "execution_count": 39,
   "metadata": {},
   "outputs": [
    {
     "name": "stdout",
     "output_type": "stream",
     "text": [
      "Best Estimator: RandomForestRegressor(bootstrap=True, ccp_alpha=0.0, criterion='mse',\n",
      "                      max_depth=100, max_features=3, max_leaf_nodes=None,\n",
      "                      max_samples=None, min_impurity_decrease=0.0,\n",
      "                      min_impurity_split=None, min_samples_leaf=3,\n",
      "                      min_samples_split=8, min_weight_fraction_leaf=0.0,\n",
      "                      n_estimators=300, n_jobs=None, oob_score=False,\n",
      "                      random_state=None, verbose=0, warm_start=False)\n"
     ]
    }
   ],
   "source": [
    "best_grid = grid_search.best_estimator_\n",
    "print('Best Estimator:', best_grid)"
   ]
  },
  {
   "cell_type": "markdown",
   "metadata": {},
   "source": [
    "- **Hyperparameter Tuning: Randomized Search**"
   ]
  },
  {
   "cell_type": "code",
   "execution_count": 40,
   "metadata": {},
   "outputs": [
    {
     "name": "stdout",
     "output_type": "stream",
     "text": [
      "{'bootstrap': [True],\n",
      " 'max_depth': [80, 90, 100, 110],\n",
      " 'max_features': [2, 3],\n",
      " 'min_samples_leaf': [3, 4, 5],\n",
      " 'min_samples_split': [5, 10],\n",
      " 'n_estimators': [100, 200, 300, 1000]}\n"
     ]
    }
   ],
   "source": [
    "# Randomized Search\n",
    "\n",
    "from sklearn.model_selection import RandomizedSearchCV\n",
    "from pprint import pprint\n",
    "\n",
    "# Number of trees in random forest\n",
    "#n_estimators = [int(x) for x in np.linspace(start = 20, stop = 200, num = 5)]\n",
    "n_estimators = [100, 200, 300, 1000]\n",
    "\n",
    "# Number of features to consider at every split\n",
    "#max_features = ['auto', 'sqrt']\n",
    "max_features = [2, 3]\n",
    "\n",
    "# Maximum number of levels in tree\n",
    "#max_depth = [int(x) for x in np.linspace(1, 45, num = 3)]\n",
    "max_depth = [80, 90, 100, 110]\n",
    "\n",
    "# Minimum number of samples required to split a node\n",
    "min_samples_split = [5, 10]\n",
    "\n",
    "# Create the random grid\n",
    "random_grid = {\n",
    "                'bootstrap': [True],\n",
    "                'max_depth': max_depth,\n",
    "                'max_features': max_features,\n",
    "                'min_samples_leaf': [3, 4, 5],\n",
    "                'min_samples_split': min_samples_split,\n",
    "                'n_estimators': n_estimators,\n",
    "            }\n",
    "\n",
    "pprint(random_grid)"
   ]
  },
  {
   "cell_type": "code",
   "execution_count": 41,
   "metadata": {
    "scrolled": true
   },
   "outputs": [
    {
     "name": "stdout",
     "output_type": "stream",
     "text": [
      "Fitting 3 folds for each of 100 candidates, totalling 300 fits\n"
     ]
    },
    {
     "name": "stderr",
     "output_type": "stream",
     "text": [
      "[Parallel(n_jobs=-1)]: Using backend LokyBackend with 8 concurrent workers.\n",
      "[Parallel(n_jobs=-1)]: Done  25 tasks      | elapsed:   47.6s\n",
      "[Parallel(n_jobs=-1)]: Done 146 tasks      | elapsed:  4.6min\n",
      "[Parallel(n_jobs=-1)]: Done 300 out of 300 | elapsed:  9.9min finished\n"
     ]
    },
    {
     "name": "stdout",
     "output_type": "stream",
     "text": [
      "Time taken for Random Grid Search: 626.41 seconds\n"
     ]
    }
   ],
   "source": [
    "# Use the random grid to search for best hyperparameters\n",
    "# First create the base model to tune\n",
    "rf = RandomForestRegressor()\n",
    "# Random search of parameters, using 3 fold cross validation, \n",
    "# search across 100 different combinations, and use all available cores\n",
    "start = time.time()\n",
    "rf_random = RandomizedSearchCV(estimator = rf, param_distributions = random_grid, n_iter = 100, cv = 3, \n",
    "                               verbose=2, random_state=42, n_jobs = -1)\n",
    "\n",
    "# Fit the random search model\n",
    "# rf_random.fit(X_train_scaled, y_train)\n",
    "rf_random.fit(X_test_scaled, y_test)\n",
    "stop = time.time()\n",
    "\n",
    "print('Time taken for Random Grid Search:', round((stop-start), 2),'seconds')"
   ]
  },
  {
   "cell_type": "code",
   "execution_count": 42,
   "metadata": {},
   "outputs": [
    {
     "name": "stdout",
     "output_type": "stream",
     "text": [
      "Best Parameters Found: {'n_estimators': 1000, 'min_samples_split': 5, 'min_samples_leaf': 3, 'max_features': 3, 'max_depth': 100, 'bootstrap': True}\n",
      "Best Score Found: 0.32983964691923456\n"
     ]
    }
   ],
   "source": [
    "print('Best Parameters Found:',rf_random.best_params_)\n",
    "print('Best Score Found:', rf_random.best_score_ )"
   ]
  },
  {
   "cell_type": "markdown",
   "metadata": {},
   "source": [
    "### 2. Gradient Boost"
   ]
  },
  {
   "cell_type": "code",
   "execution_count": 43,
   "metadata": {},
   "outputs": [
    {
     "name": "stdout",
     "output_type": "stream",
     "text": [
      "Time taken to train using Gradient Boost Model: 303.8 seconds\n"
     ]
    }
   ],
   "source": [
    "from sklearn.ensemble import GradientBoostingRegressor\n",
    "import time\n",
    "\n",
    "params = {'n_estimators': 1000,\n",
    "          'max_depth': 4,\n",
    "          'min_samples_split': 5,\n",
    "          'learning_rate': 0.01,\n",
    "          'loss': 'ls'}\n",
    "\n",
    "\n",
    "start = time.time()\n",
    "GB_model = GradientBoostingRegressor(**params)\n",
    "GB_model.fit(X_train_scaled, y_train)\n",
    "stop = time.time()\n",
    "\n",
    "print('Time taken to train using Gradient Boost Model:', round((stop-start), 2), 'seconds')"
   ]
  },
  {
   "cell_type": "markdown",
   "metadata": {},
   "source": [
    "- **Model Evaluation**"
   ]
  },
  {
   "cell_type": "code",
   "execution_count": 44,
   "metadata": {},
   "outputs": [
    {
     "name": "stdout",
     "output_type": "stream",
     "text": [
      "Test data R-2 score:   0.2\n",
      "Test data Spearman correlation: 0.328\n",
      "Test data Pearson correlation: 0.503\n"
     ]
    }
   ],
   "source": [
    "from sklearn.metrics import r2_score\n",
    "from scipy.stats import spearmanr, pearsonr\n",
    "\n",
    "predicted_train = GB_model.predict(X_train_scaled)\n",
    "predicted_test = GB_model.predict(X_test_scaled)\n",
    "test_score = r2_score(y_test, predicted_test)\n",
    "spearman = spearmanr(y_test, predicted_test)\n",
    "pearson = pearsonr(y_test, predicted_test)\n",
    "\n",
    "print(f'Test data R-2 score: {test_score:>5.3}')\n",
    "print(f'Test data Spearman correlation: {spearman[0]:.3}')\n",
    "print(f'Test data Pearson correlation: {pearson[0]:.3}')"
   ]
  },
  {
   "cell_type": "markdown",
   "metadata": {},
   "source": [
    "- **Feature Importance**"
   ]
  },
  {
   "cell_type": "code",
   "execution_count": 45,
   "metadata": {},
   "outputs": [
    {
     "name": "stdout",
     "output_type": "stream",
     "text": [
      "[0.00746528 0.03134686 0.01006165 0.0013697  0.30867955 0.05669149\n",
      " 0.01058782 0.00954911 0.02594259 0.02955885 0.04104157 0.01840755\n",
      " 0.13456755 0.0332366  0.01547718 0.11427854 0.1225859  0.01179006\n",
      " 0.01736215]\n"
     ]
    }
   ],
   "source": [
    "features_importance = GB_model.feature_importances_\n",
    "print(features_importance)"
   ]
  },
  {
   "cell_type": "code",
   "execution_count": 46,
   "metadata": {},
   "outputs": [
    {
     "data": {
      "text/plain": [
       "<matplotlib.axes._subplots.AxesSubplot at 0x7f8b7fd7f310>"
      ]
     },
     "execution_count": 46,
     "metadata": {},
     "output_type": "execute_result"
    },
    {
     "data": {
      "image/png": "[encoded data removed]",
      "text/plain": [
       "<Figure size 432x288 with 1 Axes>"
      ]
     },
     "metadata": {
      "needs_background": "light"
     },
     "output_type": "display_data"
    }
   ],
   "source": [
    "# Feature Importance \n",
    "feature_importances = pd.Series(GB_model.feature_importances_, index=features.columns)\n",
    "feature_importances.nlargest(10).plot(kind='barh')"
   ]
  },
  {
   "cell_type": "markdown",
   "metadata": {},
   "source": [
    "- **Hyperparameter Tuning: Grid Search**"
   ]
  },
  {
   "cell_type": "code",
   "execution_count": 47,
   "metadata": {},
   "outputs": [
    {
     "name": "stdout",
     "output_type": "stream",
     "text": [
      "Fitting 3 folds for each of 288 candidates, totalling 864 fits\n"
     ]
    },
    {
     "name": "stderr",
     "output_type": "stream",
     "text": [
      "[Parallel(n_jobs=-1)]: Using backend LokyBackend with 8 concurrent workers.\n",
      "[Parallel(n_jobs=-1)]: Done  25 tasks      | elapsed:  1.5min\n",
      "[Parallel(n_jobs=-1)]: Done 146 tasks      | elapsed: 10.2min\n",
      "[Parallel(n_jobs=-1)]: Done 349 tasks      | elapsed: 27.2min\n",
      "[Parallel(n_jobs=-1)]: Done 632 tasks      | elapsed: 51.9min\n",
      "[Parallel(n_jobs=-1)]: Done 864 out of 864 | elapsed: 72.2min finished\n"
     ]
    },
    {
     "name": "stdout",
     "output_type": "stream",
     "text": [
      "Time taken for Grid Search: 4358.46 seconds\n"
     ]
    }
   ],
   "source": [
    "# Tuning Hyper parameters - Grid Search\n",
    "from sklearn.model_selection import GridSearchCV\n",
    "\n",
    "param_grid = {\n",
    "    'max_depth': [80, 90, 100, 110],\n",
    "    'max_features': [2, 3],\n",
    "    'min_samples_leaf': [3, 4, 5],\n",
    "    'min_samples_split': [8, 10, 12],\n",
    "    'n_estimators': [100, 200, 300, 1000]\n",
    "}\n",
    "\n",
    "gb = GradientBoostingRegressor()\n",
    "\n",
    "# Instantiate the grid search model\n",
    "start = time.time()\n",
    "grid_search = GridSearchCV(estimator = gb, param_grid = param_grid, \n",
    "                          cv = 3, verbose = 2,  n_jobs = -1)\n",
    "# Fit the grid search to the data\n",
    "#grid_search.fit(X_train_scaled, y_train)\n",
    "grid_search.fit(X_test_scaled, y_test)\n",
    "stop = time.time()\n",
    "\n",
    "print('Time taken for Grid Search:', round((stop-start), 2),'seconds')"
   ]
  },
  {
   "cell_type": "code",
   "execution_count": 48,
   "metadata": {},
   "outputs": [
    {
     "name": "stdout",
     "output_type": "stream",
     "text": [
      "Best Parameters Found: {'max_depth': 80, 'max_features': 3, 'min_samples_leaf': 5, 'min_samples_split': 12, 'n_estimators': 200}\n",
      "Best Score Found: 0.34853303293334753\n"
     ]
    }
   ],
   "source": [
    "print('Best Parameters Found:',grid_search.best_params_)\n",
    "print('Best Score Found:', grid_search.best_score_ )"
   ]
  },
  {
   "cell_type": "code",
   "execution_count": 49,
   "metadata": {},
   "outputs": [
    {
     "name": "stdout",
     "output_type": "stream",
     "text": [
      "Best Estimator: GradientBoostingRegressor(alpha=0.9, ccp_alpha=0.0, criterion='friedman_mse',\n",
      "                          init=None, learning_rate=0.1, loss='ls', max_depth=80,\n",
      "                          max_features=3, max_leaf_nodes=None,\n",
      "                          min_impurity_decrease=0.0, min_impurity_split=None,\n",
      "                          min_samples_leaf=5, min_samples_split=12,\n",
      "                          min_weight_fraction_leaf=0.0, n_estimators=200,\n",
      "                          n_iter_no_change=None, presort='deprecated',\n",
      "                          random_state=None, subsample=1.0, tol=0.0001,\n",
      "                          validation_fraction=0.1, verbose=0, warm_start=False)\n"
     ]
    }
   ],
   "source": [
    "best_grid = grid_search.best_estimator_\n",
    "print('Best Estimator:', best_grid)"
   ]
  },
  {
   "cell_type": "markdown",
   "metadata": {},
   "source": [
    "- **Hyperparameter Tuning: Randomized Search**"
   ]
  },
  {
   "cell_type": "code",
   "execution_count": 50,
   "metadata": {},
   "outputs": [
    {
     "name": "stdout",
     "output_type": "stream",
     "text": [
      "{'max_depth': [1, 23, 45],\n",
      " 'max_features': ['auto', 'sqrt'],\n",
      " 'min_samples_leaf': [3, 4, 5],\n",
      " 'min_samples_split': [5, 10],\n",
      " 'n_estimators': [20, 65, 110, 155, 200]}\n"
     ]
    }
   ],
   "source": [
    "# Randomized Search\n",
    "\n",
    "from sklearn.model_selection import RandomizedSearchCV\n",
    "from pprint import pprint\n",
    "\n",
    "# Number of trees in random forest\n",
    "n_estimators = [int(x) for x in np.linspace(start = 20, stop = 200, num = 5)]\n",
    "# Number of features to consider at every split\n",
    "max_features = ['auto', 'sqrt']\n",
    "# Maximum number of levels in tree\n",
    "max_depth = [int(x) for x in np.linspace(1, 45, num = 3)]\n",
    "# Minimum number of samples required to split a node\n",
    "min_samples_split = [5, 10]\n",
    "\n",
    "# Create the random grid\n",
    "random_grid = {\n",
    "                'max_depth': max_depth,\n",
    "                'max_features': max_features,\n",
    "                'min_samples_leaf': [3, 4, 5],\n",
    "                'min_samples_split': min_samples_split,\n",
    "                'n_estimators': n_estimators\n",
    "            }\n",
    "\n",
    "pprint(random_grid)"
   ]
  },
  {
   "cell_type": "code",
   "execution_count": 51,
   "metadata": {
    "scrolled": false
   },
   "outputs": [
    {
     "name": "stdout",
     "output_type": "stream",
     "text": [
      "Fitting 3 folds for each of 100 candidates, totalling 300 fits\n"
     ]
    },
    {
     "name": "stderr",
     "output_type": "stream",
     "text": [
      "[Parallel(n_jobs=-1)]: Using backend LokyBackend with 8 concurrent workers.\n",
      "[Parallel(n_jobs=-1)]: Done  25 tasks      | elapsed:  1.2min\n",
      "[Parallel(n_jobs=-1)]: Done 146 tasks      | elapsed:  7.4min\n",
      "[Parallel(n_jobs=-1)]: Done 300 out of 300 | elapsed: 18.4min finished\n"
     ]
    },
    {
     "name": "stdout",
     "output_type": "stream",
     "text": [
      "Time taken for Random Grid Search: 1111.99 seconds\n"
     ]
    }
   ],
   "source": [
    "# Use the random grid to search for best hyperparameters\n",
    "# First create the base model to tune\n",
    "gb = GradientBoostingRegressor()\n",
    "# Random search of parameters, using 3 fold cross validation, \n",
    "# search across 100 different combinations, and use all available cores\n",
    "start = time.time()\n",
    "gb_random = RandomizedSearchCV(estimator = gb, param_distributions = random_grid, n_iter = 100, cv = 3, \n",
    "                               verbose=2, random_state=42, n_jobs = -1)\n",
    "\n",
    "# Fit the random search model\n",
    "#gb_random.fit(X_train_scaled, y_train)\n",
    "gb_random.fit(X_test_scaled, y_test)\n",
    "stop = time.time()\n",
    "\n",
    "print('Time taken for Random Grid Search:', round((stop-start), 2),'seconds')"
   ]
  },
  {
   "cell_type": "code",
   "execution_count": 52,
   "metadata": {},
   "outputs": [
    {
     "name": "stdout",
     "output_type": "stream",
     "text": [
      "Best Parameters Found: {'n_estimators': 65, 'min_samples_split': 5, 'min_samples_leaf': 5, 'max_features': 'sqrt', 'max_depth': 23}\n",
      "Best Score Found: 0.3516649400100566\n"
     ]
    }
   ],
   "source": [
    "print('Best Parameters Found:',gb_random.best_params_)\n",
    "print('Best Score Found:', gb_random.best_score_ )"
   ]
  }
 ],
 "metadata": {
  "kernelspec": {
   "display_name": "Python 3",
   "language": "python",
   "name": "python3"
  },
  "language_info": {
   "codemirror_mode": {
    "name": "ipython",
    "version": 3
   },
   "file_extension": ".py",
   "mimetype": "text/x-python",
   "name": "python",
   "nbconvert_exporter": "python",
   "pygments_lexer": "ipython3",
   "version": "3.7.6"
  }
 },
 "nbformat": 4,
 "nbformat_minor": 4
}
